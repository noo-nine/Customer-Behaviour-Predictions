{
 "cells": [
  {
   "cell_type": "markdown",
   "id": "e333923b",
   "metadata": {},
   "source": [
    "## Predicting Customer Churns"
   ]
  },
  {
   "cell_type": "code",
   "execution_count": 453,
   "id": "5204e0d9",
   "metadata": {},
   "outputs": [],
   "source": [
    "import pandas as pd\n",
    "import numpy as np\n",
    "import matplotlib.pyplot as plt\n",
    "import seaborn as sns\n",
    "from sklearn.model_selection import train_test_split"
   ]
  },
  {
   "cell_type": "code",
   "execution_count": 454,
   "id": "8d13a522",
   "metadata": {},
   "outputs": [
    {
     "data": {
      "text/html": [
       "<div>\n",
       "<style scoped>\n",
       "    .dataframe tbody tr th:only-of-type {\n",
       "        vertical-align: middle;\n",
       "    }\n",
       "\n",
       "    .dataframe tbody tr th {\n",
       "        vertical-align: top;\n",
       "    }\n",
       "\n",
       "    .dataframe thead th {\n",
       "        text-align: right;\n",
       "    }\n",
       "</style>\n",
       "<table border=\"1\" class=\"dataframe\">\n",
       "  <thead>\n",
       "    <tr style=\"text-align: right;\">\n",
       "      <th></th>\n",
       "      <th>Transaction_ID</th>\n",
       "      <th>Product_Code</th>\n",
       "      <th>Product_Title</th>\n",
       "      <th>Units_Sold</th>\n",
       "      <th>Transaction_Timestamp</th>\n",
       "      <th>Unit_Cost</th>\n",
       "      <th>Client_ID</th>\n",
       "      <th>Client_Region</th>\n",
       "    </tr>\n",
       "  </thead>\n",
       "  <tbody>\n",
       "    <tr>\n",
       "      <th>0</th>\n",
       "      <td>489434</td>\n",
       "      <td>85048</td>\n",
       "      <td>15CM CHRISTMAS GLASS BALL 20 LIGHTS</td>\n",
       "      <td>12</td>\n",
       "      <td>01-12-2009 07:45</td>\n",
       "      <td>6.95</td>\n",
       "      <td>13085.0</td>\n",
       "      <td>United Kingdom</td>\n",
       "    </tr>\n",
       "    <tr>\n",
       "      <th>1</th>\n",
       "      <td>489434</td>\n",
       "      <td>79323P</td>\n",
       "      <td>PINK CHERRY LIGHTS</td>\n",
       "      <td>12</td>\n",
       "      <td>01-12-2009 07:45</td>\n",
       "      <td>6.75</td>\n",
       "      <td>13085.0</td>\n",
       "      <td>United Kingdom</td>\n",
       "    </tr>\n",
       "    <tr>\n",
       "      <th>2</th>\n",
       "      <td>489434</td>\n",
       "      <td>79323W</td>\n",
       "      <td>WHITE CHERRY LIGHTS</td>\n",
       "      <td>12</td>\n",
       "      <td>01-12-2009 07:45</td>\n",
       "      <td>6.75</td>\n",
       "      <td>13085.0</td>\n",
       "      <td>United Kingdom</td>\n",
       "    </tr>\n",
       "    <tr>\n",
       "      <th>3</th>\n",
       "      <td>489434</td>\n",
       "      <td>22041</td>\n",
       "      <td>RECORD FRAME 7\" SINGLE SIZE</td>\n",
       "      <td>48</td>\n",
       "      <td>01-12-2009 07:45</td>\n",
       "      <td>2.10</td>\n",
       "      <td>13085.0</td>\n",
       "      <td>United Kingdom</td>\n",
       "    </tr>\n",
       "    <tr>\n",
       "      <th>4</th>\n",
       "      <td>489434</td>\n",
       "      <td>21232</td>\n",
       "      <td>STRAWBERRY CERAMIC TRINKET BOX</td>\n",
       "      <td>24</td>\n",
       "      <td>01-12-2009 07:45</td>\n",
       "      <td>1.25</td>\n",
       "      <td>13085.0</td>\n",
       "      <td>United Kingdom</td>\n",
       "    </tr>\n",
       "  </tbody>\n",
       "</table>\n",
       "</div>"
      ],
      "text/plain": [
       "  Transaction_ID Product_Code                        Product_Title  \\\n",
       "0         489434        85048  15CM CHRISTMAS GLASS BALL 20 LIGHTS   \n",
       "1         489434       79323P                   PINK CHERRY LIGHTS   \n",
       "2         489434       79323W                  WHITE CHERRY LIGHTS   \n",
       "3         489434        22041         RECORD FRAME 7\" SINGLE SIZE    \n",
       "4         489434        21232       STRAWBERRY CERAMIC TRINKET BOX   \n",
       "\n",
       "   Units_Sold Transaction_Timestamp  Unit_Cost  Client_ID   Client_Region  \n",
       "0          12      01-12-2009 07:45       6.95    13085.0  United Kingdom  \n",
       "1          12      01-12-2009 07:45       6.75    13085.0  United Kingdom  \n",
       "2          12      01-12-2009 07:45       6.75    13085.0  United Kingdom  \n",
       "3          48      01-12-2009 07:45       2.10    13085.0  United Kingdom  \n",
       "4          24      01-12-2009 07:45       1.25    13085.0  United Kingdom  "
      ]
     },
     "execution_count": 454,
     "metadata": {},
     "output_type": "execute_result"
    }
   ],
   "source": [
    "churn = pd.read_csv('online_retail.csv')\n",
    "churn.head()"
   ]
  },
  {
   "cell_type": "code",
   "execution_count": 455,
   "id": "57625a91",
   "metadata": {},
   "outputs": [
    {
     "data": {
      "text/plain": [
       "(525461, 8)"
      ]
     },
     "execution_count": 455,
     "metadata": {},
     "output_type": "execute_result"
    }
   ],
   "source": [
    "# Dataframe Shape\n",
    "churn.shape"
   ]
  },
  {
   "cell_type": "code",
   "execution_count": 456,
   "id": "3e9525f5",
   "metadata": {},
   "outputs": [
    {
     "data": {
      "text/plain": [
       "Transaction_ID                0\n",
       "Product_Code                  0\n",
       "Product_Title              2928\n",
       "Units_Sold                    0\n",
       "Transaction_Timestamp         0\n",
       "Unit_Cost                     0\n",
       "Client_ID                107927\n",
       "Client_Region                 0\n",
       "dtype: int64"
      ]
     },
     "execution_count": 456,
     "metadata": {},
     "output_type": "execute_result"
    }
   ],
   "source": [
    "# Finding the number of missing values in each column\n",
    "churn.isna().sum()"
   ]
  },
  {
   "cell_type": "markdown",
   "id": "49832c51",
   "metadata": {},
   "source": [
    "## Data Preprocessing"
   ]
  },
  {
   "cell_type": "markdown",
   "id": "336e1ab0",
   "metadata": {},
   "source": [
    "### Handling Dupliactes"
   ]
  },
  {
   "cell_type": "code",
   "execution_count": 457,
   "id": "72a662d7",
   "metadata": {},
   "outputs": [],
   "source": [
    "# Dropping duplicate rows\n",
    "churn.drop_duplicates(inplace = True)"
   ]
  },
  {
   "cell_type": "code",
   "execution_count": 458,
   "id": "005054dc",
   "metadata": {},
   "outputs": [
    {
     "data": {
      "text/plain": [
       "(518596, 8)"
      ]
     },
     "execution_count": 458,
     "metadata": {},
     "output_type": "execute_result"
    }
   ],
   "source": [
    "churn.shape"
   ]
  },
  {
   "cell_type": "code",
   "execution_count": 459,
   "id": "7443d4c0",
   "metadata": {},
   "outputs": [],
   "source": [
    "# Standardizing product codes\n",
    "churn['Product_Code'] = churn['Product_Code'].astype(str)\n",
    "churn['Product_Code'] = churn['Product_Code'].str.strip()\n",
    "churn['Product_Code'] = churn['Product_Code'].str.replace(r'\\s+', '', regex=True)\n",
    "churn['Product_Code'] = churn['Product_Code'].str.upper()"
   ]
  },
  {
   "cell_type": "code",
   "execution_count": 460,
   "id": "a0dfced6",
   "metadata": {},
   "outputs": [],
   "source": [
    "# converting all product titles to lowercase\n",
    "churn['Product_Title_Cleaned'] = churn['Product_Title'].astype(str)\n",
    "churn['Product_Title_Cleaned'] = churn['Product_Title_Cleaned'].str.strip()\n",
    "churn['Product_Title_Cleaned'] = churn['Product_Title_Cleaned'].str.replace(r'\\s+', ' ', regex=True)\n",
    "churn['Product_Title_Cleaned'] = churn['Product_Title_Cleaned'].str.lower()"
   ]
  },
  {
   "cell_type": "code",
   "execution_count": 461,
   "id": "91e979fa",
   "metadata": {},
   "outputs": [],
   "source": [
    "churn.drop(columns=['Product_Title'], inplace=True)"
   ]
  },
  {
   "cell_type": "code",
   "execution_count": 463,
   "id": "48b945de",
   "metadata": {},
   "outputs": [],
   "source": [
    "junk_codes = ['', 'NAN', 'NA', '?', 'NONE', 'NULL']\n",
    "# Replace them with 'junk'\n",
    "churn['Product_Code'] = churn['Product_Code'].replace(junk_codes, 'JUNK')"
   ]
  },
  {
   "cell_type": "code",
   "execution_count": 464,
   "id": "c922f1c6",
   "metadata": {},
   "outputs": [
    {
     "name": "stderr",
     "output_type": "stream",
     "text": [
      "C:\\Users\\Jakkala\\AppData\\Local\\Temp\\ipykernel_16428\\1710426677.py:1: FutureWarning: A value is trying to be set on a copy of a DataFrame or Series through chained assignment using an inplace method.\n",
      "The behavior will change in pandas 3.0. This inplace method will never work because the intermediate object on which we are setting values always behaves as a copy.\n",
      "\n",
      "For example, when doing 'df[col].method(value, inplace=True)', try using 'df.method({col: value}, inplace=True)' or df[col] = df[col].method(value) instead, to perform the operation inplace on the original object.\n",
      "\n",
      "\n",
      "  churn['Product_Code'].fillna('No Code', inplace=True)\n"
     ]
    }
   ],
   "source": [
    "churn['Product_Code'].fillna('No Code', inplace=True)"
   ]
  },
  {
   "cell_type": "code",
   "execution_count": 465,
   "id": "73754364",
   "metadata": {},
   "outputs": [
    {
     "name": "stdout",
     "output_type": "stream",
     "text": [
      "0 0 518596\n"
     ]
    }
   ],
   "source": [
    "junk_code_count = (churn['Product_Code'] == 'JUNK').sum()\n",
    "no_code_count = (churn['Product_Code'] == 'No Code').sum()\n",
    "other_code_count = ((churn['Product_Code'] != 'JUNK') & (churn['Product_Code'] != 'No Code')).sum()\n",
    "print(junk_code_count, no_code_count, other_code_count)"
   ]
  },
  {
   "cell_type": "code",
   "execution_count": 466,
   "id": "bbf33c4f",
   "metadata": {},
   "outputs": [],
   "source": [
    "# plotting a pie chart\n",
    "labels=['Junk Codes', 'No Code', 'Other Codes']\n",
    "sizes=[junk_code_count, no_code_count, other_code_count]"
   ]
  },
  {
   "cell_type": "code",
   "execution_count": 467,
   "id": "a7fc2a47",
   "metadata": {},
   "outputs": [
    {
     "data": {
      "image/png": "[encoded data removed]",
      "text/plain": [
       "<Figure size 1000x600 with 1 Axes>"
      ]
     },
     "metadata": {},
     "output_type": "display_data"
    }
   ],
   "source": [
    "plt.figure(figsize=(10, 6))\n",
    "plt.pie(sizes, labels=labels)\n",
    "plt.show()"
   ]
  },
  {
   "cell_type": "code",
   "execution_count": 468,
   "id": "467a3ab7",
   "metadata": {},
   "outputs": [],
   "source": [
    "# All the product codes are standardized"
   ]
  },
  {
   "cell_type": "markdown",
   "id": "05533e56",
   "metadata": {},
   "source": [
    "### Handling Missing Values"
   ]
  },
  {
   "cell_type": "code",
   "execution_count": 469,
   "id": "f5dcddb7",
   "metadata": {},
   "outputs": [
    {
     "name": "stderr",
     "output_type": "stream",
     "text": [
      "C:\\Users\\Jakkala\\AppData\\Local\\Temp\\ipykernel_16428\\546381977.py:1: FutureWarning: A value is trying to be set on a copy of a DataFrame or Series through chained assignment using an inplace method.\n",
      "The behavior will change in pandas 3.0. This inplace method will never work because the intermediate object on which we are setting values always behaves as a copy.\n",
      "\n",
      "For example, when doing 'df[col].method(value, inplace=True)', try using 'df.method({col: value}, inplace=True)' or df[col] = df[col].method(value) instead, to perform the operation inplace on the original object.\n",
      "\n",
      "\n",
      "  churn['Client_ID'].fillna('Guest', inplace=True)\n",
      "C:\\Users\\Jakkala\\AppData\\Local\\Temp\\ipykernel_16428\\546381977.py:1: FutureWarning: Setting an item of incompatible dtype is deprecated and will raise an error in a future version of pandas. Value 'Guest' has dtype incompatible with float64, please explicitly cast to a compatible dtype first.\n",
      "  churn['Client_ID'].fillna('Guest', inplace=True)\n"
     ]
    }
   ],
   "source": [
    "churn['Client_ID'].fillna('Guest', inplace=True)"
   ]
  },
  {
   "cell_type": "code",
   "execution_count": 470,
   "id": "d1209626",
   "metadata": {},
   "outputs": [
    {
     "data": {
      "text/plain": [
       "Transaction_ID           0\n",
       "Product_Code             0\n",
       "Units_Sold               0\n",
       "Transaction_Timestamp    0\n",
       "Unit_Cost                0\n",
       "Client_ID                0\n",
       "Client_Region            0\n",
       "Product_Title_Cleaned    0\n",
       "dtype: int64"
      ]
     },
     "execution_count": 470,
     "metadata": {},
     "output_type": "execute_result"
    }
   ],
   "source": [
    "churn.isna().sum()"
   ]
  },
  {
   "cell_type": "markdown",
   "id": "33c2bc5d",
   "metadata": {},
   "source": [
    "### Handling DataTypes"
   ]
  },
  {
   "cell_type": "code",
   "execution_count": 475,
   "id": "8cb2c2fa",
   "metadata": {},
   "outputs": [
    {
     "data": {
      "text/plain": [
       "Transaction_ID                   object\n",
       "Product_Code                     object\n",
       "Units_Sold                        int64\n",
       "Transaction_Timestamp    datetime64[ns]\n",
       "Unit_Cost                       float64\n",
       "Client_ID                        object\n",
       "Client_Region                    object\n",
       "Product_Title_Cleaned            object\n",
       "dtype: object"
      ]
     },
     "execution_count": 475,
     "metadata": {},
     "output_type": "execute_result"
    }
   ],
   "source": [
    "churn.dtypes"
   ]
  },
  {
   "cell_type": "code",
   "execution_count": 474,
   "id": "f3e46fa7",
   "metadata": {},
   "outputs": [],
   "source": [
    "churn['Transaction_Timestamp'] = pd.to_datetime(churn['Transaction_Timestamp'], format = '%d-%m-%Y %H:%M', dayfirst = True)"
   ]
  },
  {
   "cell_type": "markdown",
   "id": "08ac5b66",
   "metadata": {},
   "source": [
    "## EDA"
   ]
  },
  {
   "cell_type": "code",
   "execution_count": 476,
   "id": "a371c0f8",
   "metadata": {},
   "outputs": [
    {
     "data": {
      "text/plain": [
       "Transaction_ID           28816\n",
       "Product_Code              4480\n",
       "Units_Sold                 825\n",
       "Transaction_Timestamp    25296\n",
       "Unit_Cost                 1606\n",
       "Client_ID                 4384\n",
       "Client_Region               40\n",
       "Product_Title_Cleaned     4630\n",
       "dtype: int64"
      ]
     },
     "execution_count": 476,
     "metadata": {},
     "output_type": "execute_result"
    }
   ],
   "source": [
    "churn.nunique()"
   ]
  },
  {
   "cell_type": "code",
   "execution_count": 479,
   "id": "f4e6a2f7",
   "metadata": {},
   "outputs": [
    {
     "name": "stdout",
     "output_type": "stream",
     "text": [
      "Number of transactions with multiple clients: 0\n"
     ]
    }
   ],
   "source": [
    "# Checking if 1 transaction involves more than 1 customer which can be a problem\n",
    "client_counts = churn.groupby('Transaction_ID')['Client_ID'].nunique()\n",
    "multi_client_transactions = client_counts[client_counts > 1]\n",
    "print(f\"Number of transactions with multiple clients: {len(multi_client_transactions)}\")"
   ]
  },
  {
   "cell_type": "code",
   "execution_count": null,
   "id": "e35e5184",
   "metadata": {},
   "outputs": [],
   "source": [
    "# According to nunique values, 1 transaction timestamps can have more than 1 transaction IDs"
   ]
  },
  {
   "cell_type": "markdown",
   "id": "bfe1fcdc",
   "metadata": {},
   "source": [
    "## Feature Engineering"
   ]
  },
  {
   "cell_type": "code",
   "execution_count": null,
   "id": "1370c21c",
   "metadata": {},
   "outputs": [],
   "source": []
  }
 ],
 "metadata": {
  "kernelspec": {
   "display_name": "ml-env",
   "language": "python",
   "name": "python3"
  },
  "language_info": {
   "codemirror_mode": {
    "name": "ipython",
    "version": 3
   },
   "file_extension": ".py",
   "mimetype": "text/x-python",
   "name": "python",
   "nbconvert_exporter": "python",
   "pygments_lexer": "ipython3",
   "version": "3.10.16"
  }
 },
 "nbformat": 4,
 "nbformat_minor": 5
}
