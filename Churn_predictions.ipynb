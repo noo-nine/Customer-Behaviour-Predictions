{
 "cells": [
  {
   "cell_type": "markdown",
   "id": "e333923b",
   "metadata": {},
   "source": [
    "## Predicting Customer Churns"
   ]
  },
  {
   "cell_type": "code",
   "execution_count": 153,
   "id": "5204e0d9",
   "metadata": {},
   "outputs": [],
   "source": [
    "import pandas as pd\n",
    "import numpy as np\n",
    "import matplotlib.pyplot as plt\n",
    "import seaborn as sns\n",
    "from sklearn.model_selection import train_test_split"
   ]
  },
  {
   "cell_type": "code",
   "execution_count": 154,
   "id": "8d13a522",
   "metadata": {},
   "outputs": [
    {
     "data": {
      "text/html": [
       "<div>\n",
       "<style scoped>\n",
       "    .dataframe tbody tr th:only-of-type {\n",
       "        vertical-align: middle;\n",
       "    }\n",
       "\n",
       "    .dataframe tbody tr th {\n",
       "        vertical-align: top;\n",
       "    }\n",
       "\n",
       "    .dataframe thead th {\n",
       "        text-align: right;\n",
       "    }\n",
       "</style>\n",
       "<table border=\"1\" class=\"dataframe\">\n",
       "  <thead>\n",
       "    <tr style=\"text-align: right;\">\n",
       "      <th></th>\n",
       "      <th>Transaction_ID</th>\n",
       "      <th>Product_Code</th>\n",
       "      <th>Product_Title</th>\n",
       "      <th>Units_Sold</th>\n",
       "      <th>Transaction_Timestamp</th>\n",
       "      <th>Unit_Cost</th>\n",
       "      <th>Client_ID</th>\n",
       "      <th>Client_Region</th>\n",
       "    </tr>\n",
       "  </thead>\n",
       "  <tbody>\n",
       "    <tr>\n",
       "      <th>0</th>\n",
       "      <td>489434</td>\n",
       "      <td>85048</td>\n",
       "      <td>15CM CHRISTMAS GLASS BALL 20 LIGHTS</td>\n",
       "      <td>12</td>\n",
       "      <td>01-12-2009 07:45</td>\n",
       "      <td>6.95</td>\n",
       "      <td>13085.0</td>\n",
       "      <td>United Kingdom</td>\n",
       "    </tr>\n",
       "    <tr>\n",
       "      <th>1</th>\n",
       "      <td>489434</td>\n",
       "      <td>79323P</td>\n",
       "      <td>PINK CHERRY LIGHTS</td>\n",
       "      <td>12</td>\n",
       "      <td>01-12-2009 07:45</td>\n",
       "      <td>6.75</td>\n",
       "      <td>13085.0</td>\n",
       "      <td>United Kingdom</td>\n",
       "    </tr>\n",
       "    <tr>\n",
       "      <th>2</th>\n",
       "      <td>489434</td>\n",
       "      <td>79323W</td>\n",
       "      <td>WHITE CHERRY LIGHTS</td>\n",
       "      <td>12</td>\n",
       "      <td>01-12-2009 07:45</td>\n",
       "      <td>6.75</td>\n",
       "      <td>13085.0</td>\n",
       "      <td>United Kingdom</td>\n",
       "    </tr>\n",
       "    <tr>\n",
       "      <th>3</th>\n",
       "      <td>489434</td>\n",
       "      <td>22041</td>\n",
       "      <td>RECORD FRAME 7\" SINGLE SIZE</td>\n",
       "      <td>48</td>\n",
       "      <td>01-12-2009 07:45</td>\n",
       "      <td>2.10</td>\n",
       "      <td>13085.0</td>\n",
       "      <td>United Kingdom</td>\n",
       "    </tr>\n",
       "    <tr>\n",
       "      <th>4</th>\n",
       "      <td>489434</td>\n",
       "      <td>21232</td>\n",
       "      <td>STRAWBERRY CERAMIC TRINKET BOX</td>\n",
       "      <td>24</td>\n",
       "      <td>01-12-2009 07:45</td>\n",
       "      <td>1.25</td>\n",
       "      <td>13085.0</td>\n",
       "      <td>United Kingdom</td>\n",
       "    </tr>\n",
       "  </tbody>\n",
       "</table>\n",
       "</div>"
      ],
      "text/plain": [
       "  Transaction_ID Product_Code                        Product_Title  \\\n",
       "0         489434        85048  15CM CHRISTMAS GLASS BALL 20 LIGHTS   \n",
       "1         489434       79323P                   PINK CHERRY LIGHTS   \n",
       "2         489434       79323W                  WHITE CHERRY LIGHTS   \n",
       "3         489434        22041         RECORD FRAME 7\" SINGLE SIZE    \n",
       "4         489434        21232       STRAWBERRY CERAMIC TRINKET BOX   \n",
       "\n",
       "   Units_Sold Transaction_Timestamp  Unit_Cost  Client_ID   Client_Region  \n",
       "0          12      01-12-2009 07:45       6.95    13085.0  United Kingdom  \n",
       "1          12      01-12-2009 07:45       6.75    13085.0  United Kingdom  \n",
       "2          12      01-12-2009 07:45       6.75    13085.0  United Kingdom  \n",
       "3          48      01-12-2009 07:45       2.10    13085.0  United Kingdom  \n",
       "4          24      01-12-2009 07:45       1.25    13085.0  United Kingdom  "
      ]
     },
     "execution_count": 154,
     "metadata": {},
     "output_type": "execute_result"
    }
   ],
   "source": [
    "churn = pd.read_csv('online_retail.csv')\n",
    "churn.head()"
   ]
  },
  {
   "cell_type": "code",
   "execution_count": 155,
   "id": "57625a91",
   "metadata": {},
   "outputs": [
    {
     "data": {
      "text/plain": [
       "(525461, 8)"
      ]
     },
     "execution_count": 155,
     "metadata": {},
     "output_type": "execute_result"
    }
   ],
   "source": [
    "# Dataframe Shape\n",
    "churn.shape"
   ]
  },
  {
   "cell_type": "code",
   "execution_count": 156,
   "id": "3e9525f5",
   "metadata": {},
   "outputs": [
    {
     "data": {
      "text/plain": [
       "Transaction_ID                0\n",
       "Product_Code                  0\n",
       "Product_Title              2928\n",
       "Units_Sold                    0\n",
       "Transaction_Timestamp         0\n",
       "Unit_Cost                     0\n",
       "Client_ID                107927\n",
       "Client_Region                 0\n",
       "dtype: int64"
      ]
     },
     "execution_count": 156,
     "metadata": {},
     "output_type": "execute_result"
    }
   ],
   "source": [
    "# Finding the number of missing values in each column\n",
    "churn.isna().sum()"
   ]
  },
  {
   "cell_type": "markdown",
   "id": "49832c51",
   "metadata": {},
   "source": [
    "## Data Preprocessing"
   ]
  },
  {
   "cell_type": "code",
   "execution_count": 157,
   "id": "72a662d7",
   "metadata": {},
   "outputs": [],
   "source": [
    "# Dropping duplicate rows\n",
    "churn.drop_duplicates(inplace = True)"
   ]
  },
  {
   "cell_type": "code",
   "execution_count": 158,
   "id": "005054dc",
   "metadata": {},
   "outputs": [
    {
     "data": {
      "text/plain": [
       "(518596, 8)"
      ]
     },
     "execution_count": 158,
     "metadata": {},
     "output_type": "execute_result"
    }
   ],
   "source": [
    "churn.shape"
   ]
  },
  {
   "cell_type": "code",
   "execution_count": 159,
   "id": "648827bc",
   "metadata": {},
   "outputs": [
    {
     "name": "stdout",
     "output_type": "stream",
     "text": [
      "Unique product codes: 4632\n",
      "Unique product titles: 4681\n",
      "Missing product titles: 2928\n"
     ]
    }
   ],
   "source": [
    "print(\"Unique product codes:\", churn[\"Product_Code\"].nunique())\n",
    "print(\"Unique product titles:\", churn[\"Product_Title\"].nunique())\n",
    "print(\"Missing product titles:\", churn[\"Product_Title\"].isnull().sum())"
   ]
  },
  {
   "cell_type": "code",
   "execution_count": 160,
   "id": "a311e520",
   "metadata": {},
   "outputs": [],
   "source": [
    "# There are more product codes than product titles"
   ]
  },
  {
   "cell_type": "code",
   "execution_count": 161,
   "id": "0a7b2bef",
   "metadata": {},
   "outputs": [
    {
     "name": "stdout",
     "output_type": "stream",
     "text": [
      "Product codes with more than 1 titles: 687\n"
     ]
    }
   ],
   "source": [
    "# How many product codes have more than one unique title\n",
    "more_titles = churn[churn[\"Product_Title\"].notnull()].groupby(\"Product_Code\")[\"Product_Title\"].nunique()\n",
    "print(\"Product codes with more than 1 titles:\", ( more_titles > 1).sum())"
   ]
  },
  {
   "cell_type": "code",
   "execution_count": 162,
   "id": "9a83a79c",
   "metadata": {},
   "outputs": [],
   "source": [
    "conflict_codes = more_titles[more_titles > 1].index"
   ]
  },
  {
   "cell_type": "code",
   "execution_count": 163,
   "id": "73712cda",
   "metadata": {},
   "outputs": [
    {
     "data": {
      "text/html": [
       "<div>\n",
       "<style scoped>\n",
       "    .dataframe tbody tr th:only-of-type {\n",
       "        vertical-align: middle;\n",
       "    }\n",
       "\n",
       "    .dataframe tbody tr th {\n",
       "        vertical-align: top;\n",
       "    }\n",
       "\n",
       "    .dataframe thead th {\n",
       "        text-align: right;\n",
       "    }\n",
       "</style>\n",
       "<table border=\"1\" class=\"dataframe\">\n",
       "  <thead>\n",
       "    <tr style=\"text-align: right;\">\n",
       "      <th></th>\n",
       "      <th>Product_Code</th>\n",
       "      <th>Product_Title</th>\n",
       "    </tr>\n",
       "  </thead>\n",
       "  <tbody>\n",
       "    <tr>\n",
       "      <th>2944</th>\n",
       "      <td>10120</td>\n",
       "      <td>DOGGY RUBBER</td>\n",
       "    </tr>\n",
       "    <tr>\n",
       "      <th>194372</th>\n",
       "      <td>10120</td>\n",
       "      <td>Zebra invcing error</td>\n",
       "    </tr>\n",
       "    <tr>\n",
       "      <th>614</th>\n",
       "      <td>15056N</td>\n",
       "      <td>EDWARDIAN PARASOL NATURAL</td>\n",
       "    </tr>\n",
       "    <tr>\n",
       "      <th>100429</th>\n",
       "      <td>15056N</td>\n",
       "      <td>wedding co returns?</td>\n",
       "    </tr>\n",
       "    <tr>\n",
       "      <th>54894</th>\n",
       "      <td>15058B</td>\n",
       "      <td>PINK WHITE SPOTS GARDEN PARASOL</td>\n",
       "    </tr>\n",
       "    <tr>\n",
       "      <th>461044</th>\n",
       "      <td>15058B</td>\n",
       "      <td>PINK POLKADOT GARDEN PARASOL</td>\n",
       "    </tr>\n",
       "    <tr>\n",
       "      <th>10462</th>\n",
       "      <td>16011</td>\n",
       "      <td>ANIMAL STICKERS</td>\n",
       "    </tr>\n",
       "    <tr>\n",
       "      <th>119710</th>\n",
       "      <td>16011</td>\n",
       "      <td>ANIMAL STICKERS</td>\n",
       "    </tr>\n",
       "    <tr>\n",
       "      <th>4157</th>\n",
       "      <td>16012</td>\n",
       "      <td>FOOD/DRINK SPUNGE STICKERS</td>\n",
       "    </tr>\n",
       "    <tr>\n",
       "      <th>314800</th>\n",
       "      <td>16012</td>\n",
       "      <td>FOOD/DRINK SPONGE STICKERS</td>\n",
       "    </tr>\n",
       "    <tr>\n",
       "      <th>200913</th>\n",
       "      <td>16151A</td>\n",
       "      <td>NaN</td>\n",
       "    </tr>\n",
       "    <tr>\n",
       "      <th>365004</th>\n",
       "      <td>16151A</td>\n",
       "      <td>found</td>\n",
       "    </tr>\n",
       "    <tr>\n",
       "      <th>181581</th>\n",
       "      <td>16151A</td>\n",
       "      <td>FLOWER DES BLUE HANDBAG/ORANG HANDL</td>\n",
       "    </tr>\n",
       "    <tr>\n",
       "      <th>2497</th>\n",
       "      <td>16161U</td>\n",
       "      <td>WRAP,SUKI AND FRIENDS</td>\n",
       "    </tr>\n",
       "    <tr>\n",
       "      <th>258896</th>\n",
       "      <td>16161U</td>\n",
       "      <td>WRAP SUKI AND FRIENDS</td>\n",
       "    </tr>\n",
       "    <tr>\n",
       "      <th>22995</th>\n",
       "      <td>16168S</td>\n",
       "      <td>FUNKY MONKEY GIFT BAG SMALL</td>\n",
       "    </tr>\n",
       "    <tr>\n",
       "      <th>83301</th>\n",
       "      <td>16168S</td>\n",
       "      <td>NaN</td>\n",
       "    </tr>\n",
       "    <tr>\n",
       "      <th>82412</th>\n",
       "      <td>16168S</td>\n",
       "      <td>missing</td>\n",
       "    </tr>\n",
       "    <tr>\n",
       "      <th>489715</th>\n",
       "      <td>16169C</td>\n",
       "      <td>damages</td>\n",
       "    </tr>\n",
       "    <tr>\n",
       "      <th>1226</th>\n",
       "      <td>16169C</td>\n",
       "      <td>WRAP BLUE REINDEER</td>\n",
       "    </tr>\n",
       "  </tbody>\n",
       "</table>\n",
       "</div>"
      ],
      "text/plain": [
       "       Product_Code                        Product_Title\n",
       "2944          10120                         DOGGY RUBBER\n",
       "194372        10120                  Zebra invcing error\n",
       "614          15056N            EDWARDIAN PARASOL NATURAL\n",
       "100429       15056N                  wedding co returns?\n",
       "54894        15058B      PINK WHITE SPOTS GARDEN PARASOL\n",
       "461044       15058B         PINK POLKADOT GARDEN PARASOL\n",
       "10462         16011                      ANIMAL STICKERS\n",
       "119710        16011                      ANIMAL STICKERS\n",
       "4157          16012           FOOD/DRINK SPUNGE STICKERS\n",
       "314800        16012           FOOD/DRINK SPONGE STICKERS\n",
       "200913       16151A                                  NaN\n",
       "365004       16151A                                found\n",
       "181581       16151A  FLOWER DES BLUE HANDBAG/ORANG HANDL\n",
       "2497         16161U                WRAP,SUKI AND FRIENDS\n",
       "258896       16161U                WRAP SUKI AND FRIENDS\n",
       "22995        16168S          FUNKY MONKEY GIFT BAG SMALL\n",
       "83301        16168S                                  NaN\n",
       "82412        16168S                              missing\n",
       "489715       16169C                              damages\n",
       "1226         16169C                   WRAP BLUE REINDEER"
      ]
     },
     "execution_count": 163,
     "metadata": {},
     "output_type": "execute_result"
    }
   ],
   "source": [
    "churn[churn[\"Product_Code\"].isin(conflict_codes)][['Product_Code', 'Product_Title']].drop_duplicates().sort_values(\"Product_Code\").head(20)"
   ]
  },
  {
   "cell_type": "code",
   "execution_count": 164,
   "id": "d809e9d5",
   "metadata": {},
   "outputs": [],
   "source": [
    "# There are some product titles that are irregular and junk\n",
    "# we need to remove them\n",
    "junk_keywords = [\"found\", \"missing\", \"damages\", \"error\", \"returns\", \"invcing\", \"nan\", \"?\"]\n",
    "churn[\"Title_lower\"] = churn[\"Product_Title\"].str.lower()"
   ]
  },
  {
   "cell_type": "code",
   "execution_count": 165,
   "id": "08fe01ef",
   "metadata": {},
   "outputs": [
    {
     "name": "stdout",
     "output_type": "stream",
     "text": [
      "found|missing|damages|error|returns|invcing|nan|\\?\n"
     ]
    }
   ],
   "source": [
    "# creating a pattern to remove junk titles\n",
    "import re\n",
    "#junk_pattern = \"|\".join(junk_keywords)\n",
    "junk_pattern = \"|\".join([re.escape(word) for word in junk_keywords])\n",
    "print(junk_pattern)"
   ]
  },
  {
   "cell_type": "code",
   "execution_count": 166,
   "id": "a0a4b65d",
   "metadata": {},
   "outputs": [],
   "source": [
    "# removing rows with product names as junk titles\n",
    "clean_titles = churn[(churn['Product_Title'].notnull()) & (~churn['Title_lower'].str.contains(junk_pattern, na=False))]"
   ]
  },
  {
   "cell_type": "code",
   "execution_count": 167,
   "id": "ecf86559",
   "metadata": {},
   "outputs": [],
   "source": [
    "# grouping the rows by product code\n",
    "grouped = clean_titles.groupby(\"Product_Code\")\n",
    "# we need to assign a single title that is repeated most to each product code\n",
    "common_titles = {}\n",
    "for product_code, group in grouped:\n",
    "    title_counts = group[\"Product_Title\"].value_counts()\n",
    "    common_title = title_counts.idxmax()\n",
    "    common_titles[product_code] = common_title\n",
    "# this is a dictionary with product codes with mostky repeated product titles"
   ]
  },
  {
   "cell_type": "code",
   "execution_count": 168,
   "id": "5b9944f4",
   "metadata": {},
   "outputs": [],
   "source": [
    "# map product codes to product titles from the dictionary\n",
    "churn['Product_Title_Cleaned'] = churn['Product_Code'].map(common_titles)"
   ]
  },
  {
   "cell_type": "code",
   "execution_count": 169,
   "id": "760dac89",
   "metadata": {},
   "outputs": [],
   "source": [
    "churn.drop(columns=['Title_lower', 'Product_Title'], inplace=True)"
   ]
  },
  {
   "cell_type": "code",
   "execution_count": 170,
   "id": "5e075120",
   "metadata": {},
   "outputs": [
    {
     "name": "stdout",
     "output_type": "stream",
     "text": [
      "Dataframe shape after cleaning product titles: (518596, 8)\n"
     ]
    }
   ],
   "source": [
    "print(f\"Dataframe shape after cleaning product titles: {churn.shape}\")"
   ]
  },
  {
   "cell_type": "code",
   "execution_count": 171,
   "id": "01a13a9d",
   "metadata": {},
   "outputs": [
    {
     "data": {
      "text/plain": [
       "Transaction_ID                0\n",
       "Product_Code                  0\n",
       "Units_Sold                    0\n",
       "Transaction_Timestamp         0\n",
       "Unit_Cost                     0\n",
       "Client_ID                107833\n",
       "Client_Region                 0\n",
       "Product_Title_Cleaned       780\n",
       "dtype: int64"
      ]
     },
     "execution_count": 171,
     "metadata": {},
     "output_type": "execute_result"
    }
   ],
   "source": [
    "churn.isna().sum()"
   ]
  },
  {
   "cell_type": "code",
   "execution_count": 172,
   "id": "8e0bf87e",
   "metadata": {},
   "outputs": [
    {
     "name": "stdout",
     "output_type": "stream",
     "text": [
      "Unique product codes: 4632\n",
      "Unique product titles: 4103\n"
     ]
    }
   ],
   "source": [
    "print(\"Unique product codes:\", churn[\"Product_Code\"].nunique())\n",
    "print(\"Unique product titles:\", churn[\"Product_Title_Cleaned\"].nunique())"
   ]
  }
 ],
 "metadata": {
  "kernelspec": {
   "display_name": "ml-env",
   "language": "python",
   "name": "python3"
  },
  "language_info": {
   "codemirror_mode": {
    "name": "ipython",
    "version": 3
   },
   "file_extension": ".py",
   "mimetype": "text/x-python",
   "name": "python",
   "nbconvert_exporter": "python",
   "pygments_lexer": "ipython3",
   "version": "3.10.16"
  }
 },
 "nbformat": 4,
 "nbformat_minor": 5
}
