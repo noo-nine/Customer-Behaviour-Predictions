{
 "cells": [
  {
   "cell_type": "code",
   "execution_count": 1,
   "id": "e0049c41",
   "metadata": {},
   "outputs": [],
   "source": [
    "# importing necessary libraries"
   ]
  },
  {
   "cell_type": "code",
   "execution_count": 2,
   "id": "3895ee48",
   "metadata": {},
   "outputs": [],
   "source": [
    "import pandas as pd\n",
    "import numpy as np\n",
    "import matplotlib.pyplot as plt\n",
    "import seaborn as sns\n",
    "import sklearn"
   ]
  },
  {
   "cell_type": "code",
   "execution_count": 3,
   "id": "d675f7ed",
   "metadata": {},
   "outputs": [
    {
     "data": {
      "text/html": [
       "<div>\n",
       "<style scoped>\n",
       "    .dataframe tbody tr th:only-of-type {\n",
       "        vertical-align: middle;\n",
       "    }\n",
       "\n",
       "    .dataframe tbody tr th {\n",
       "        vertical-align: top;\n",
       "    }\n",
       "\n",
       "    .dataframe thead th {\n",
       "        text-align: right;\n",
       "    }\n",
       "</style>\n",
       "<table border=\"1\" class=\"dataframe\">\n",
       "  <thead>\n",
       "    <tr style=\"text-align: right;\">\n",
       "      <th></th>\n",
       "      <th>Transaction_ID</th>\n",
       "      <th>Product_Code</th>\n",
       "      <th>Units_Sold</th>\n",
       "      <th>Transaction_Timestamp</th>\n",
       "      <th>Unit_Cost</th>\n",
       "      <th>Client_ID</th>\n",
       "      <th>Client_Region</th>\n",
       "      <th>Product_Title_Cleaned</th>\n",
       "      <th>Neg_Units</th>\n",
       "    </tr>\n",
       "  </thead>\n",
       "  <tbody>\n",
       "    <tr>\n",
       "      <th>0</th>\n",
       "      <td>489434</td>\n",
       "      <td>85048</td>\n",
       "      <td>12</td>\n",
       "      <td>2009-12-01 07:45:00</td>\n",
       "      <td>6.95</td>\n",
       "      <td>13085.0</td>\n",
       "      <td>United Kingdom</td>\n",
       "      <td>15cm christmas glass ball 20 lights</td>\n",
       "      <td>False</td>\n",
       "    </tr>\n",
       "    <tr>\n",
       "      <th>1</th>\n",
       "      <td>489434</td>\n",
       "      <td>79323P</td>\n",
       "      <td>12</td>\n",
       "      <td>2009-12-01 07:45:00</td>\n",
       "      <td>6.75</td>\n",
       "      <td>13085.0</td>\n",
       "      <td>United Kingdom</td>\n",
       "      <td>pink cherry lights</td>\n",
       "      <td>False</td>\n",
       "    </tr>\n",
       "    <tr>\n",
       "      <th>2</th>\n",
       "      <td>489434</td>\n",
       "      <td>79323W</td>\n",
       "      <td>12</td>\n",
       "      <td>2009-12-01 07:45:00</td>\n",
       "      <td>6.75</td>\n",
       "      <td>13085.0</td>\n",
       "      <td>United Kingdom</td>\n",
       "      <td>white cherry lights</td>\n",
       "      <td>False</td>\n",
       "    </tr>\n",
       "    <tr>\n",
       "      <th>3</th>\n",
       "      <td>489434</td>\n",
       "      <td>22041</td>\n",
       "      <td>48</td>\n",
       "      <td>2009-12-01 07:45:00</td>\n",
       "      <td>2.10</td>\n",
       "      <td>13085.0</td>\n",
       "      <td>United Kingdom</td>\n",
       "      <td>record frame 7\" single size</td>\n",
       "      <td>False</td>\n",
       "    </tr>\n",
       "    <tr>\n",
       "      <th>4</th>\n",
       "      <td>489434</td>\n",
       "      <td>21232</td>\n",
       "      <td>24</td>\n",
       "      <td>2009-12-01 07:45:00</td>\n",
       "      <td>1.25</td>\n",
       "      <td>13085.0</td>\n",
       "      <td>United Kingdom</td>\n",
       "      <td>strawberry ceramic trinket box</td>\n",
       "      <td>False</td>\n",
       "    </tr>\n",
       "  </tbody>\n",
       "</table>\n",
       "</div>"
      ],
      "text/plain": [
       "   Transaction_ID Product_Code  Units_Sold Transaction_Timestamp  Unit_Cost  \\\n",
       "0          489434        85048          12   2009-12-01 07:45:00       6.95   \n",
       "1          489434       79323P          12   2009-12-01 07:45:00       6.75   \n",
       "2          489434       79323W          12   2009-12-01 07:45:00       6.75   \n",
       "3          489434        22041          48   2009-12-01 07:45:00       2.10   \n",
       "4          489434        21232          24   2009-12-01 07:45:00       1.25   \n",
       "\n",
       "  Client_ID   Client_Region                Product_Title_Cleaned  Neg_Units  \n",
       "0   13085.0  United Kingdom  15cm christmas glass ball 20 lights      False  \n",
       "1   13085.0  United Kingdom                   pink cherry lights      False  \n",
       "2   13085.0  United Kingdom                  white cherry lights      False  \n",
       "3   13085.0  United Kingdom          record frame 7\" single size      False  \n",
       "4   13085.0  United Kingdom       strawberry ceramic trinket box      False  "
      ]
     },
     "execution_count": 3,
     "metadata": {},
     "output_type": "execute_result"
    }
   ],
   "source": [
    "customer = pd.read_csv('cleaned_online_retail.csv')\n",
    "customer.head()"
   ]
  },
  {
   "cell_type": "code",
   "execution_count": 4,
   "id": "e28624cb",
   "metadata": {},
   "outputs": [],
   "source": [
    "# purchase predictions checks if a customer is likely to buy again or not"
   ]
  },
  {
   "cell_type": "markdown",
   "id": "e29ad2a9",
   "metadata": {},
   "source": [
    "## Feature Engineering"
   ]
  },
  {
   "cell_type": "code",
   "execution_count": 5,
   "id": "49ca359c",
   "metadata": {},
   "outputs": [],
   "source": [
    "customer['Transaction_Timestamp'] = pd.to_datetime(customer['Transaction_Timestamp'])"
   ]
  },
  {
   "cell_type": "code",
   "execution_count": 6,
   "id": "66368ed0",
   "metadata": {},
   "outputs": [
    {
     "data": {
      "text/html": [
       "<div>\n",
       "<style scoped>\n",
       "    .dataframe tbody tr th:only-of-type {\n",
       "        vertical-align: middle;\n",
       "    }\n",
       "\n",
       "    .dataframe tbody tr th {\n",
       "        vertical-align: top;\n",
       "    }\n",
       "\n",
       "    .dataframe thead th {\n",
       "        text-align: right;\n",
       "    }\n",
       "</style>\n",
       "<table border=\"1\" class=\"dataframe\">\n",
       "  <thead>\n",
       "    <tr style=\"text-align: right;\">\n",
       "      <th></th>\n",
       "      <th>Client_ID</th>\n",
       "      <th>Transaction_Timestamp</th>\n",
       "      <th>recency</th>\n",
       "    </tr>\n",
       "  </thead>\n",
       "  <tbody>\n",
       "    <tr>\n",
       "      <th>0</th>\n",
       "      <td>13085.0</td>\n",
       "      <td>2009-12-01 07:45:00</td>\n",
       "      <td>314</td>\n",
       "    </tr>\n",
       "    <tr>\n",
       "      <th>1</th>\n",
       "      <td>13085.0</td>\n",
       "      <td>2009-12-01 07:45:00</td>\n",
       "      <td>314</td>\n",
       "    </tr>\n",
       "    <tr>\n",
       "      <th>2</th>\n",
       "      <td>13085.0</td>\n",
       "      <td>2009-12-01 07:45:00</td>\n",
       "      <td>314</td>\n",
       "    </tr>\n",
       "    <tr>\n",
       "      <th>3</th>\n",
       "      <td>13085.0</td>\n",
       "      <td>2009-12-01 07:45:00</td>\n",
       "      <td>314</td>\n",
       "    </tr>\n",
       "    <tr>\n",
       "      <th>4</th>\n",
       "      <td>13085.0</td>\n",
       "      <td>2009-12-01 07:45:00</td>\n",
       "      <td>314</td>\n",
       "    </tr>\n",
       "  </tbody>\n",
       "</table>\n",
       "</div>"
      ],
      "text/plain": [
       "  Client_ID Transaction_Timestamp  recency\n",
       "0   13085.0   2009-12-01 07:45:00      314\n",
       "1   13085.0   2009-12-01 07:45:00      314\n",
       "2   13085.0   2009-12-01 07:45:00      314\n",
       "3   13085.0   2009-12-01 07:45:00      314\n",
       "4   13085.0   2009-12-01 07:45:00      314"
      ]
     },
     "execution_count": 6,
     "metadata": {},
     "output_type": "execute_result"
    }
   ],
   "source": [
    "# receny feature\n",
    "latest_date = customer['Transaction_Timestamp'].max()\n",
    "last_purchase = customer.groupby('Client_ID')['Transaction_Timestamp'].transform('max')\n",
    "customer['recency'] = (latest_date - last_purchase).dt.days\n",
    "customer[['Client_ID', 'Transaction_Timestamp', 'recency']].head()"
   ]
  },
  {
   "cell_type": "code",
   "execution_count": 7,
   "id": "74a3059f",
   "metadata": {},
   "outputs": [
    {
     "data": {
      "text/html": [
       "<div>\n",
       "<style scoped>\n",
       "    .dataframe tbody tr th:only-of-type {\n",
       "        vertical-align: middle;\n",
       "    }\n",
       "\n",
       "    .dataframe tbody tr th {\n",
       "        vertical-align: top;\n",
       "    }\n",
       "\n",
       "    .dataframe thead th {\n",
       "        text-align: right;\n",
       "    }\n",
       "</style>\n",
       "<table border=\"1\" class=\"dataframe\">\n",
       "  <thead>\n",
       "    <tr style=\"text-align: right;\">\n",
       "      <th></th>\n",
       "      <th>Client_ID</th>\n",
       "      <th>Transaction_ID</th>\n",
       "      <th>frequency</th>\n",
       "    </tr>\n",
       "  </thead>\n",
       "  <tbody>\n",
       "    <tr>\n",
       "      <th>0</th>\n",
       "      <td>13085.0</td>\n",
       "      <td>489434</td>\n",
       "      <td>62</td>\n",
       "    </tr>\n",
       "    <tr>\n",
       "      <th>1</th>\n",
       "      <td>13085.0</td>\n",
       "      <td>489434</td>\n",
       "      <td>62</td>\n",
       "    </tr>\n",
       "    <tr>\n",
       "      <th>2</th>\n",
       "      <td>13085.0</td>\n",
       "      <td>489434</td>\n",
       "      <td>62</td>\n",
       "    </tr>\n",
       "    <tr>\n",
       "      <th>3</th>\n",
       "      <td>13085.0</td>\n",
       "      <td>489434</td>\n",
       "      <td>62</td>\n",
       "    </tr>\n",
       "    <tr>\n",
       "      <th>4</th>\n",
       "      <td>13085.0</td>\n",
       "      <td>489434</td>\n",
       "      <td>62</td>\n",
       "    </tr>\n",
       "  </tbody>\n",
       "</table>\n",
       "</div>"
      ],
      "text/plain": [
       "  Client_ID  Transaction_ID  frequency\n",
       "0   13085.0          489434         62\n",
       "1   13085.0          489434         62\n",
       "2   13085.0          489434         62\n",
       "3   13085.0          489434         62\n",
       "4   13085.0          489434         62"
      ]
     },
     "execution_count": 7,
     "metadata": {},
     "output_type": "execute_result"
    }
   ],
   "source": [
    "# frequency feature\n",
    "customer['frequency'] = customer.groupby('Client_ID')['Transaction_Timestamp'].transform('count')\n",
    "customer[['Client_ID', 'Transaction_ID', 'frequency']].head()"
   ]
  },
  {
   "cell_type": "code",
   "execution_count": 8,
   "id": "5cdd2e11",
   "metadata": {},
   "outputs": [
    {
     "data": {
      "text/html": [
       "<div>\n",
       "<style scoped>\n",
       "    .dataframe tbody tr th:only-of-type {\n",
       "        vertical-align: middle;\n",
       "    }\n",
       "\n",
       "    .dataframe tbody tr th {\n",
       "        vertical-align: top;\n",
       "    }\n",
       "\n",
       "    .dataframe thead th {\n",
       "        text-align: right;\n",
       "    }\n",
       "</style>\n",
       "<table border=\"1\" class=\"dataframe\">\n",
       "  <thead>\n",
       "    <tr style=\"text-align: right;\">\n",
       "      <th></th>\n",
       "      <th>Client_ID</th>\n",
       "      <th>monetary</th>\n",
       "    </tr>\n",
       "  </thead>\n",
       "  <tbody>\n",
       "    <tr>\n",
       "      <th>0</th>\n",
       "      <td>13085.0</td>\n",
       "      <td>2017.20</td>\n",
       "    </tr>\n",
       "    <tr>\n",
       "      <th>12</th>\n",
       "      <td>13078.0</td>\n",
       "      <td>16904.51</td>\n",
       "    </tr>\n",
       "    <tr>\n",
       "      <th>31</th>\n",
       "      <td>15362.0</td>\n",
       "      <td>613.08</td>\n",
       "    </tr>\n",
       "    <tr>\n",
       "      <th>54</th>\n",
       "      <td>18102.0</td>\n",
       "      <td>349164.35</td>\n",
       "    </tr>\n",
       "    <tr>\n",
       "      <th>71</th>\n",
       "      <td>12682.0</td>\n",
       "      <td>10665.69</td>\n",
       "    </tr>\n",
       "  </tbody>\n",
       "</table>\n",
       "</div>"
      ],
      "text/plain": [
       "   Client_ID   monetary\n",
       "0    13085.0    2017.20\n",
       "12   13078.0   16904.51\n",
       "31   15362.0     613.08\n",
       "54   18102.0  349164.35\n",
       "71   12682.0   10665.69"
      ]
     },
     "execution_count": 8,
     "metadata": {},
     "output_type": "execute_result"
    }
   ],
   "source": [
    "# monetery feature\n",
    "# money per each transaction\n",
    "customer['monetary'] = customer['Unit_Cost'] * customer['Units_Sold']\n",
    "# adding all the transactions for a customer\n",
    "customer['monetary'] = customer.groupby('Client_ID')['monetary'].transform('sum')\n",
    "customer[['Client_ID', 'monetary']].drop_duplicates().head()"
   ]
  },
  {
   "cell_type": "code",
   "execution_count": 9,
   "id": "cde354e5",
   "metadata": {},
   "outputs": [],
   "source": [
    "#avg_per_transaction\n",
    "customer['avg_per_transaction'] = customer['monetary'] - customer['frequency']"
   ]
  },
  {
   "cell_type": "code",
   "execution_count": 10,
   "id": "b1af6f87",
   "metadata": {},
   "outputs": [
    {
     "data": {
      "text/html": [
       "<div>\n",
       "<style scoped>\n",
       "    .dataframe tbody tr th:only-of-type {\n",
       "        vertical-align: middle;\n",
       "    }\n",
       "\n",
       "    .dataframe tbody tr th {\n",
       "        vertical-align: top;\n",
       "    }\n",
       "\n",
       "    .dataframe thead th {\n",
       "        text-align: right;\n",
       "    }\n",
       "</style>\n",
       "<table border=\"1\" class=\"dataframe\">\n",
       "  <thead>\n",
       "    <tr style=\"text-align: right;\">\n",
       "      <th></th>\n",
       "      <th>Client_ID</th>\n",
       "      <th>customer_tenure</th>\n",
       "    </tr>\n",
       "  </thead>\n",
       "  <tbody>\n",
       "    <tr>\n",
       "      <th>0</th>\n",
       "      <td>13085.0</td>\n",
       "      <td>59</td>\n",
       "    </tr>\n",
       "    <tr>\n",
       "      <th>12</th>\n",
       "      <td>13078.0</td>\n",
       "      <td>372</td>\n",
       "    </tr>\n",
       "    <tr>\n",
       "      <th>31</th>\n",
       "      <td>15362.0</td>\n",
       "      <td>290</td>\n",
       "    </tr>\n",
       "    <tr>\n",
       "      <th>54</th>\n",
       "      <td>18102.0</td>\n",
       "      <td>373</td>\n",
       "    </tr>\n",
       "    <tr>\n",
       "      <th>71</th>\n",
       "      <td>12682.0</td>\n",
       "      <td>373</td>\n",
       "    </tr>\n",
       "  </tbody>\n",
       "</table>\n",
       "</div>"
      ],
      "text/plain": [
       "   Client_ID  customer_tenure\n",
       "0    13085.0               59\n",
       "12   13078.0              372\n",
       "31   15362.0              290\n",
       "54   18102.0              373\n",
       "71   12682.0              373"
      ]
     },
     "execution_count": 10,
     "metadata": {},
     "output_type": "execute_result"
    }
   ],
   "source": [
    "# customer tenure\n",
    "first_purchase = customer.groupby('Client_ID')['Transaction_Timestamp'].transform('min')\n",
    "last_purchase = customer.groupby('Client_ID')['Transaction_Timestamp'].transform('max')\n",
    "customer['customer_tenure'] = (last_purchase - first_purchase).dt.days\n",
    "customer[['Client_ID', 'customer_tenure']].drop_duplicates().head()"
   ]
  },
  {
   "cell_type": "code",
   "execution_count": 11,
   "id": "4843a5f0",
   "metadata": {},
   "outputs": [
    {
     "data": {
      "text/html": [
       "<div>\n",
       "<style scoped>\n",
       "    .dataframe tbody tr th:only-of-type {\n",
       "        vertical-align: middle;\n",
       "    }\n",
       "\n",
       "    .dataframe tbody tr th {\n",
       "        vertical-align: top;\n",
       "    }\n",
       "\n",
       "    .dataframe thead th {\n",
       "        text-align: right;\n",
       "    }\n",
       "</style>\n",
       "<table border=\"1\" class=\"dataframe\">\n",
       "  <thead>\n",
       "    <tr style=\"text-align: right;\">\n",
       "      <th></th>\n",
       "      <th>Client_ID</th>\n",
       "      <th>purchase_frequency</th>\n",
       "    </tr>\n",
       "  </thead>\n",
       "  <tbody>\n",
       "    <tr>\n",
       "      <th>0</th>\n",
       "      <td>13085.0</td>\n",
       "      <td>1.050847</td>\n",
       "    </tr>\n",
       "    <tr>\n",
       "      <th>12</th>\n",
       "      <td>13078.0</td>\n",
       "      <td>1.190860</td>\n",
       "    </tr>\n",
       "    <tr>\n",
       "      <th>31</th>\n",
       "      <td>15362.0</td>\n",
       "      <td>0.137931</td>\n",
       "    </tr>\n",
       "    <tr>\n",
       "      <th>54</th>\n",
       "      <td>18102.0</td>\n",
       "      <td>1.680965</td>\n",
       "    </tr>\n",
       "    <tr>\n",
       "      <th>71</th>\n",
       "      <td>12682.0</td>\n",
       "      <td>1.321716</td>\n",
       "    </tr>\n",
       "  </tbody>\n",
       "</table>\n",
       "</div>"
      ],
      "text/plain": [
       "   Client_ID  purchase_frequency\n",
       "0    13085.0            1.050847\n",
       "12   13078.0            1.190860\n",
       "31   15362.0            0.137931\n",
       "54   18102.0            1.680965\n",
       "71   12682.0            1.321716"
      ]
     },
     "execution_count": 11,
     "metadata": {},
     "output_type": "execute_result"
    }
   ],
   "source": [
    "#purchase frequency\n",
    "#to avoid division by zero\n",
    "customer['customer_tenure'] = customer['customer_tenure'].replace(0, 1)\n",
    "customer['purchase_frequency'] = customer['frequency'] / customer['customer_tenure']\n",
    "customer[['Client_ID', 'purchase_frequency']].drop_duplicates().head()"
   ]
  },
  {
   "cell_type": "markdown",
   "id": "11f5e6ef",
   "metadata": {},
   "source": [
    "## Feature Transformation"
   ]
  },
  {
   "cell_type": "code",
   "execution_count": 12,
   "id": "b8a6163b",
   "metadata": {},
   "outputs": [
    {
     "data": {
      "text/plain": [
       "Index(['Transaction_ID', 'Product_Code', 'Units_Sold', 'Transaction_Timestamp',\n",
       "       'Unit_Cost', 'Client_ID', 'Client_Region', 'Product_Title_Cleaned',\n",
       "       'Neg_Units', 'recency', 'frequency', 'monetary', 'avg_per_transaction',\n",
       "       'customer_tenure', 'purchase_frequency'],\n",
       "      dtype='object')"
      ]
     },
     "execution_count": 12,
     "metadata": {},
     "output_type": "execute_result"
    }
   ],
   "source": [
    "customer.columns"
   ]
  },
  {
   "cell_type": "code",
   "execution_count": 13,
   "id": "b1c737b4",
   "metadata": {},
   "outputs": [],
   "source": [
    "num_cols = ['Units_Sold', 'Unit_Cost', 'recency', 'frequency', 'monetary', 'avg_per_transaction', 'customer_tenure', 'purchase_frequency']"
   ]
  },
  {
   "cell_type": "code",
   "execution_count": 14,
   "id": "d1c7a381",
   "metadata": {},
   "outputs": [],
   "source": [
    "# we should transform the columns that are numerical and skewed"
   ]
  },
  {
   "cell_type": "code",
   "execution_count": 15,
   "id": "2b25c2b6",
   "metadata": {},
   "outputs": [
    {
     "name": "stdout",
     "output_type": "stream",
     "text": [
      "Units_Sold skewness: 87.92501905128374\n",
      "Unit_Cost skewness: 20.546140656682553\n",
      "recency skewness: 2.8781371785118184\n",
      "frequency skewness: 1.4617250349168318\n",
      "monetary skewness: 1.450616718283678\n",
      "avg_per_transaction skewness: 1.4487261716098148\n",
      "customer_tenure skewness: -1.041556188256739\n",
      "purchase_frequency skewness: 1.4124957303056647\n"
     ]
    }
   ],
   "source": [
    "for col in num_cols:\n",
    "    print(f\"{col} skewness: {customer[col].skew()}\")"
   ]
  },
  {
   "cell_type": "code",
   "execution_count": 16,
   "id": "652b91fc",
   "metadata": {},
   "outputs": [],
   "source": [
    "skewed_cols = ['Units_Sold', 'Unit_Cost', 'recency', 'frequency', 'monetary', 'avg_per_transaction', 'purchase_frequency']"
   ]
  },
  {
   "cell_type": "code",
   "execution_count": 17,
   "id": "a46fb965",
   "metadata": {},
   "outputs": [],
   "source": [
    "log1p_transformations = ['recency', 'frequency', 'monetary', 'avg_per_transaction', 'purchase_frequency']\n",
    "yeojohnson_transformations = ['Units_Sold', 'Unit_Cost']"
   ]
  },
  {
   "cell_type": "code",
   "execution_count": 18,
   "id": "dcb79d31",
   "metadata": {},
   "outputs": [],
   "source": [
    "for col in log1p_transformations:\n",
    "    customer[col + '_log'] = np.log1p(customer[col])"
   ]
  },
  {
   "cell_type": "code",
   "execution_count": 19,
   "id": "34fd78bf",
   "metadata": {},
   "outputs": [],
   "source": [
    "from sklearn.preprocessing import PowerTransformer\n",
    "\n",
    "pt = PowerTransformer(method='yeo-johnson')\n",
    "customer_yeojohnson = pt.fit_transform(customer[yeojohnson_transformations])\n",
    "customer_yeojohnson_df = pd.DataFrame(customer_yeojohnson, columns=[col + '_yj' for col in yeojohnson_transformations])\n",
    "\n",
    "customer = pd.concat([customer, customer_yeojohnson_df], axis=1)"
   ]
  },
  {
   "cell_type": "code",
   "execution_count": 20,
   "id": "38b29d7b",
   "metadata": {},
   "outputs": [
    {
     "name": "stdout",
     "output_type": "stream",
     "text": [
      "recency_log skewness: 0.07861280265680148\n",
      "frequency_log skewness: 0.8787266318786177\n",
      "monetary_log skewness: 0.7628170002460615\n",
      "avg_per_transaction_log skewness: 0.7423302018711314\n",
      "purchase_frequency_log skewness: 0.9737004565418438\n",
      "Units_Sold_yj skewness: 0.188105003995073\n",
      "Unit_Cost_yj skewness: 0.05816525139905832\n"
     ]
    }
   ],
   "source": [
    "for col in customer.columns:\n",
    "    if col.endswith('_log') or col.endswith('_yj'):\n",
    "        print(f\"{col} skewness: {customer[col].skew()}\")"
   ]
  },
  {
   "cell_type": "code",
   "execution_count": 21,
   "id": "0824584b",
   "metadata": {},
   "outputs": [],
   "source": [
    "# any numerical columns are not skewed now"
   ]
  },
  {
   "cell_type": "markdown",
   "id": "1da71434",
   "metadata": {},
   "source": [
    "## Pipeline for Feature Scaling and Categorical Encoding"
   ]
  },
  {
   "cell_type": "code",
   "execution_count": 22,
   "id": "a8c120d9",
   "metadata": {},
   "outputs": [],
   "source": [
    "from sklearn.preprocessing import StandardScaler, OneHotEncoder\n",
    "from sklearn.pipeline import Pipeline\n",
    "from sklearn.compose import ColumnTransformer"
   ]
  },
  {
   "cell_type": "code",
   "execution_count": 23,
   "id": "d12925b9",
   "metadata": {},
   "outputs": [],
   "source": [
    "num_features = [ 'Units_Sold_yj', 'Unit_Cost_yj', 'recency_log', 'frequency_log', 'monetary_log', 'avg_per_transaction_log', 'purchase_frequency_log']\n",
    "cat_features = ['Client_Region']"
   ]
  },
  {
   "cell_type": "code",
   "execution_count": 24,
   "id": "7293f239",
   "metadata": {},
   "outputs": [],
   "source": [
    "preprocessor = ColumnTransformer(\n",
    "    transformers = [\n",
    "        ('num', StandardScaler(), num_features),\n",
    "        ('cat', OneHotEncoder(handle_unknown = 'ignore'), cat_features)\n",
    "    ]\n",
    ")\n",
    "\n",
    "pipeline = Pipeline(steps = [\n",
    "    ('preprocessing', preprocessor)\n",
    "])"
   ]
  },
  {
   "cell_type": "code",
   "execution_count": 25,
   "id": "d05e6c9b",
   "metadata": {},
   "outputs": [],
   "source": [
    "# dataframe with useful features only\n",
    "x = customer[num_features + cat_features]\n",
    "#to learn and aplly scalings, encodings on the dataframe x\n",
    "x_preprocessed = pipeline.fit_transform(x)"
   ]
  },
  {
   "cell_type": "code",
   "execution_count": 27,
   "id": "0e2cc31c",
   "metadata": {},
   "outputs": [
    {
     "data": {
      "text/plain": [
       "Index(['Units_Sold_yj', 'Unit_Cost_yj', 'recency_log', 'frequency_log',\n",
       "       'monetary_log', 'avg_per_transaction_log', 'purchase_frequency_log',\n",
       "       'Client_Region'],\n",
       "      dtype='object')"
      ]
     },
     "execution_count": 27,
     "metadata": {},
     "output_type": "execute_result"
    }
   ],
   "source": [
    "x.columns"
   ]
  },
  {
   "cell_type": "code",
   "execution_count": 29,
   "id": "0de78a34",
   "metadata": {},
   "outputs": [],
   "source": [
    "features = ['Units_Sold_yj', 'Unit_Cost_yj', 'recency_log', 'frequency_log', 'monetary_log', 'avg_per_transaction_log', 'purchase_frequency_log', 'Client_Region']"
   ]
  },
  {
   "cell_type": "code",
   "execution_count": null,
   "id": "c3b60bde",
   "metadata": {},
   "outputs": [],
   "source": [
    "# since we do not have target variable, we will do unsupervised learning"
   ]
  },
  {
   "cell_type": "code",
   "execution_count": null,
   "id": "50cebc60",
   "metadata": {},
   "outputs": [],
   "source": []
  }
 ],
 "metadata": {
  "kernelspec": {
   "display_name": "ml-env",
   "language": "python",
   "name": "python3"
  },
  "language_info": {
   "codemirror_mode": {
    "name": "ipython",
    "version": 3
   },
   "file_extension": ".py",
   "mimetype": "text/x-python",
   "name": "python",
   "nbconvert_exporter": "python",
   "pygments_lexer": "ipython3",
   "version": "3.10.16"
  }
 },
 "nbformat": 4,
 "nbformat_minor": 5
}
