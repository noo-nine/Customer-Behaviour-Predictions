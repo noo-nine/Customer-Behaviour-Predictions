{
 "cells": [
  {
   "cell_type": "markdown",
   "id": "e333923b",
   "metadata": {},
   "source": [
    "## Predicting Customer Churns"
   ]
  },
  {
   "cell_type": "code",
   "execution_count": 172,
   "id": "5204e0d9",
   "metadata": {},
   "outputs": [],
   "source": [
    "import pandas as pd\n",
    "import numpy as np\n",
    "import matplotlib.pyplot as plt\n",
    "import seaborn as sns\n",
    "from sklearn.model_selection import train_test_split"
   ]
  },
  {
   "cell_type": "code",
   "execution_count": 173,
   "id": "8d13a522",
   "metadata": {},
   "outputs": [
    {
     "data": {
      "text/html": [
       "<div>\n",
       "<style scoped>\n",
       "    .dataframe tbody tr th:only-of-type {\n",
       "        vertical-align: middle;\n",
       "    }\n",
       "\n",
       "    .dataframe tbody tr th {\n",
       "        vertical-align: top;\n",
       "    }\n",
       "\n",
       "    .dataframe thead th {\n",
       "        text-align: right;\n",
       "    }\n",
       "</style>\n",
       "<table border=\"1\" class=\"dataframe\">\n",
       "  <thead>\n",
       "    <tr style=\"text-align: right;\">\n",
       "      <th></th>\n",
       "      <th>Transaction_ID</th>\n",
       "      <th>Product_Code</th>\n",
       "      <th>Product_Title</th>\n",
       "      <th>Units_Sold</th>\n",
       "      <th>Transaction_Timestamp</th>\n",
       "      <th>Unit_Cost</th>\n",
       "      <th>Client_ID</th>\n",
       "      <th>Client_Region</th>\n",
       "    </tr>\n",
       "  </thead>\n",
       "  <tbody>\n",
       "    <tr>\n",
       "      <th>0</th>\n",
       "      <td>489434</td>\n",
       "      <td>85048</td>\n",
       "      <td>15CM CHRISTMAS GLASS BALL 20 LIGHTS</td>\n",
       "      <td>12</td>\n",
       "      <td>01-12-2009 07:45</td>\n",
       "      <td>6.95</td>\n",
       "      <td>13085.0</td>\n",
       "      <td>United Kingdom</td>\n",
       "    </tr>\n",
       "    <tr>\n",
       "      <th>1</th>\n",
       "      <td>489434</td>\n",
       "      <td>79323P</td>\n",
       "      <td>PINK CHERRY LIGHTS</td>\n",
       "      <td>12</td>\n",
       "      <td>01-12-2009 07:45</td>\n",
       "      <td>6.75</td>\n",
       "      <td>13085.0</td>\n",
       "      <td>United Kingdom</td>\n",
       "    </tr>\n",
       "    <tr>\n",
       "      <th>2</th>\n",
       "      <td>489434</td>\n",
       "      <td>79323W</td>\n",
       "      <td>WHITE CHERRY LIGHTS</td>\n",
       "      <td>12</td>\n",
       "      <td>01-12-2009 07:45</td>\n",
       "      <td>6.75</td>\n",
       "      <td>13085.0</td>\n",
       "      <td>United Kingdom</td>\n",
       "    </tr>\n",
       "    <tr>\n",
       "      <th>3</th>\n",
       "      <td>489434</td>\n",
       "      <td>22041</td>\n",
       "      <td>RECORD FRAME 7\" SINGLE SIZE</td>\n",
       "      <td>48</td>\n",
       "      <td>01-12-2009 07:45</td>\n",
       "      <td>2.10</td>\n",
       "      <td>13085.0</td>\n",
       "      <td>United Kingdom</td>\n",
       "    </tr>\n",
       "    <tr>\n",
       "      <th>4</th>\n",
       "      <td>489434</td>\n",
       "      <td>21232</td>\n",
       "      <td>STRAWBERRY CERAMIC TRINKET BOX</td>\n",
       "      <td>24</td>\n",
       "      <td>01-12-2009 07:45</td>\n",
       "      <td>1.25</td>\n",
       "      <td>13085.0</td>\n",
       "      <td>United Kingdom</td>\n",
       "    </tr>\n",
       "  </tbody>\n",
       "</table>\n",
       "</div>"
      ],
      "text/plain": [
       "  Transaction_ID Product_Code                        Product_Title  \\\n",
       "0         489434        85048  15CM CHRISTMAS GLASS BALL 20 LIGHTS   \n",
       "1         489434       79323P                   PINK CHERRY LIGHTS   \n",
       "2         489434       79323W                  WHITE CHERRY LIGHTS   \n",
       "3         489434        22041         RECORD FRAME 7\" SINGLE SIZE    \n",
       "4         489434        21232       STRAWBERRY CERAMIC TRINKET BOX   \n",
       "\n",
       "   Units_Sold Transaction_Timestamp  Unit_Cost  Client_ID   Client_Region  \n",
       "0          12      01-12-2009 07:45       6.95    13085.0  United Kingdom  \n",
       "1          12      01-12-2009 07:45       6.75    13085.0  United Kingdom  \n",
       "2          12      01-12-2009 07:45       6.75    13085.0  United Kingdom  \n",
       "3          48      01-12-2009 07:45       2.10    13085.0  United Kingdom  \n",
       "4          24      01-12-2009 07:45       1.25    13085.0  United Kingdom  "
      ]
     },
     "execution_count": 173,
     "metadata": {},
     "output_type": "execute_result"
    }
   ],
   "source": [
    "churn = pd.read_csv('online_retail.csv')\n",
    "churn.head()"
   ]
  },
  {
   "cell_type": "code",
   "execution_count": 174,
   "id": "57625a91",
   "metadata": {},
   "outputs": [
    {
     "data": {
      "text/plain": [
       "(525461, 8)"
      ]
     },
     "execution_count": 174,
     "metadata": {},
     "output_type": "execute_result"
    }
   ],
   "source": [
    "# Dataframe Shape\n",
    "churn.shape"
   ]
  },
  {
   "cell_type": "code",
   "execution_count": 175,
   "id": "3e9525f5",
   "metadata": {},
   "outputs": [
    {
     "data": {
      "text/plain": [
       "Transaction_ID                0\n",
       "Product_Code                  0\n",
       "Product_Title              2928\n",
       "Units_Sold                    0\n",
       "Transaction_Timestamp         0\n",
       "Unit_Cost                     0\n",
       "Client_ID                107927\n",
       "Client_Region                 0\n",
       "dtype: int64"
      ]
     },
     "execution_count": 175,
     "metadata": {},
     "output_type": "execute_result"
    }
   ],
   "source": [
    "# Finding the number of missing values in each column\n",
    "churn.isna().sum()"
   ]
  },
  {
   "cell_type": "markdown",
   "id": "49832c51",
   "metadata": {},
   "source": [
    "## Data Preprocessing"
   ]
  },
  {
   "cell_type": "markdown",
   "id": "336e1ab0",
   "metadata": {},
   "source": [
    "### Handling Dupliactes"
   ]
  },
  {
   "cell_type": "code",
   "execution_count": 176,
   "id": "72a662d7",
   "metadata": {},
   "outputs": [],
   "source": [
    "# Dropping duplicate rows\n",
    "churn.drop_duplicates(inplace = True)"
   ]
  },
  {
   "cell_type": "code",
   "execution_count": 177,
   "id": "005054dc",
   "metadata": {},
   "outputs": [
    {
     "data": {
      "text/plain": [
       "(518596, 8)"
      ]
     },
     "execution_count": 177,
     "metadata": {},
     "output_type": "execute_result"
    }
   ],
   "source": [
    "churn.shape"
   ]
  },
  {
   "cell_type": "code",
   "execution_count": 178,
   "id": "7443d4c0",
   "metadata": {},
   "outputs": [],
   "source": [
    "# Standardizing product codes\n",
    "churn['Product_Code'] = churn['Product_Code'].astype(str)\n",
    "churn['Product_Code'] = churn['Product_Code'].str.strip()\n",
    "churn['Product_Code'] = churn['Product_Code'].str.replace(r'\\s+', '', regex=True)\n",
    "churn['Product_Code'] = churn['Product_Code'].str.upper()"
   ]
  },
  {
   "cell_type": "code",
   "execution_count": 179,
   "id": "a0dfced6",
   "metadata": {},
   "outputs": [],
   "source": [
    "# converting all product titles to lowercase\n",
    "churn['Product_Title_Cleaned'] = churn['Product_Title'].astype(str)\n",
    "churn['Product_Title_Cleaned'] = churn['Product_Title_Cleaned'].str.strip()\n",
    "churn['Product_Title_Cleaned'] = churn['Product_Title_Cleaned'].str.replace(r'\\s+', ' ', regex=True)\n",
    "churn['Product_Title_Cleaned'] = churn['Product_Title_Cleaned'].str.lower()"
   ]
  },
  {
   "cell_type": "code",
   "execution_count": 180,
   "id": "91e979fa",
   "metadata": {},
   "outputs": [],
   "source": [
    "churn.drop(columns=['Product_Title'], inplace=True)"
   ]
  },
  {
   "cell_type": "code",
   "execution_count": 181,
   "id": "c922f1c6",
   "metadata": {},
   "outputs": [
    {
     "name": "stderr",
     "output_type": "stream",
     "text": [
      "C:\\Users\\Jakkala\\AppData\\Local\\Temp\\ipykernel_14908\\1582623180.py:1: FutureWarning: A value is trying to be set on a copy of a DataFrame or Series through chained assignment using an inplace method.\n",
      "The behavior will change in pandas 3.0. This inplace method will never work because the intermediate object on which we are setting values always behaves as a copy.\n",
      "\n",
      "For example, when doing 'df[col].method(value, inplace=True)', try using 'df.method({col: value}, inplace=True)' or df[col] = df[col].method(value) instead, to perform the operation inplace on the original object.\n",
      "\n",
      "\n",
      "  churn['Product_Code'].fillna('no code', inplace=True)\n"
     ]
    }
   ],
   "source": [
    "churn['Product_Code'].fillna('no code', inplace=True)"
   ]
  },
  {
   "cell_type": "code",
   "execution_count": 182,
   "id": "467a3ab7",
   "metadata": {},
   "outputs": [],
   "source": [
    "# All the product codes are standardized"
   ]
  },
  {
   "cell_type": "markdown",
   "id": "05533e56",
   "metadata": {},
   "source": [
    "### Handling Missing Values"
   ]
  },
  {
   "cell_type": "code",
   "execution_count": 183,
   "id": "f5dcddb7",
   "metadata": {},
   "outputs": [
    {
     "name": "stderr",
     "output_type": "stream",
     "text": [
      "C:\\Users\\Jakkala\\AppData\\Local\\Temp\\ipykernel_14908\\546381977.py:1: FutureWarning: A value is trying to be set on a copy of a DataFrame or Series through chained assignment using an inplace method.\n",
      "The behavior will change in pandas 3.0. This inplace method will never work because the intermediate object on which we are setting values always behaves as a copy.\n",
      "\n",
      "For example, when doing 'df[col].method(value, inplace=True)', try using 'df.method({col: value}, inplace=True)' or df[col] = df[col].method(value) instead, to perform the operation inplace on the original object.\n",
      "\n",
      "\n",
      "  churn['Client_ID'].fillna('Guest', inplace=True)\n",
      "C:\\Users\\Jakkala\\AppData\\Local\\Temp\\ipykernel_14908\\546381977.py:1: FutureWarning: Setting an item of incompatible dtype is deprecated and will raise an error in a future version of pandas. Value 'Guest' has dtype incompatible with float64, please explicitly cast to a compatible dtype first.\n",
      "  churn['Client_ID'].fillna('Guest', inplace=True)\n"
     ]
    }
   ],
   "source": [
    "churn['Client_ID'].fillna('Guest', inplace=True)"
   ]
  },
  {
   "cell_type": "code",
   "execution_count": 184,
   "id": "d1209626",
   "metadata": {},
   "outputs": [
    {
     "data": {
      "text/plain": [
       "Transaction_ID           0\n",
       "Product_Code             0\n",
       "Units_Sold               0\n",
       "Transaction_Timestamp    0\n",
       "Unit_Cost                0\n",
       "Client_ID                0\n",
       "Client_Region            0\n",
       "Product_Title_Cleaned    0\n",
       "dtype: int64"
      ]
     },
     "execution_count": 184,
     "metadata": {},
     "output_type": "execute_result"
    }
   ],
   "source": [
    "churn.isna().sum()"
   ]
  },
  {
   "cell_type": "markdown",
   "id": "33c2bc5d",
   "metadata": {},
   "source": [
    "### Handling DataTypes"
   ]
  },
  {
   "cell_type": "code",
   "execution_count": 185,
   "id": "8cb2c2fa",
   "metadata": {},
   "outputs": [
    {
     "data": {
      "text/plain": [
       "Transaction_ID            object\n",
       "Product_Code              object\n",
       "Units_Sold                 int64\n",
       "Transaction_Timestamp     object\n",
       "Unit_Cost                float64\n",
       "Client_ID                 object\n",
       "Client_Region             object\n",
       "Product_Title_Cleaned     object\n",
       "dtype: object"
      ]
     },
     "execution_count": 185,
     "metadata": {},
     "output_type": "execute_result"
    }
   ],
   "source": [
    "churn.dtypes"
   ]
  },
  {
   "cell_type": "code",
   "execution_count": 186,
   "id": "f3e46fa7",
   "metadata": {},
   "outputs": [],
   "source": [
    "churn['Transaction_Timestamp'] = pd.to_datetime(churn['Transaction_Timestamp'], format = '%d-%m-%Y %H:%M', dayfirst = True)"
   ]
  },
  {
   "cell_type": "markdown",
   "id": "08ac5b66",
   "metadata": {},
   "source": [
    "## EDA"
   ]
  },
  {
   "cell_type": "code",
   "execution_count": 187,
   "id": "a371c0f8",
   "metadata": {},
   "outputs": [
    {
     "data": {
      "text/plain": [
       "Transaction_ID           28816\n",
       "Product_Code              4480\n",
       "Units_Sold                 825\n",
       "Transaction_Timestamp    25296\n",
       "Unit_Cost                 1606\n",
       "Client_ID                 4384\n",
       "Client_Region               40\n",
       "Product_Title_Cleaned     4630\n",
       "dtype: int64"
      ]
     },
     "execution_count": 187,
     "metadata": {},
     "output_type": "execute_result"
    }
   ],
   "source": [
    "churn.nunique()"
   ]
  },
  {
   "cell_type": "code",
   "execution_count": 188,
   "id": "36cb936b",
   "metadata": {},
   "outputs": [
    {
     "data": {
      "text/plain": [
       "count    518596.000000\n",
       "mean          4.716176\n",
       "std         147.090460\n",
       "min      -53594.360000\n",
       "25%           1.250000\n",
       "50%           2.100000\n",
       "75%           4.210000\n",
       "max       25111.090000\n",
       "Name: Unit_Cost, dtype: float64"
      ]
     },
     "execution_count": 188,
     "metadata": {},
     "output_type": "execute_result"
    }
   ],
   "source": [
    "churn['Unit_Cost'].describe()"
   ]
  },
  {
   "cell_type": "code",
   "execution_count": 189,
   "id": "6538c260",
   "metadata": {},
   "outputs": [
    {
     "data": {
      "text/html": [
       "<div>\n",
       "<style scoped>\n",
       "    .dataframe tbody tr th:only-of-type {\n",
       "        vertical-align: middle;\n",
       "    }\n",
       "\n",
       "    .dataframe tbody tr th {\n",
       "        vertical-align: top;\n",
       "    }\n",
       "\n",
       "    .dataframe thead th {\n",
       "        text-align: right;\n",
       "    }\n",
       "</style>\n",
       "<table border=\"1\" class=\"dataframe\">\n",
       "  <thead>\n",
       "    <tr style=\"text-align: right;\">\n",
       "      <th></th>\n",
       "      <th>Transaction_ID</th>\n",
       "      <th>Product_Code</th>\n",
       "      <th>Units_Sold</th>\n",
       "      <th>Transaction_Timestamp</th>\n",
       "      <th>Unit_Cost</th>\n",
       "      <th>Client_ID</th>\n",
       "      <th>Client_Region</th>\n",
       "      <th>Product_Title_Cleaned</th>\n",
       "    </tr>\n",
       "  </thead>\n",
       "  <tbody>\n",
       "    <tr>\n",
       "      <th>179403</th>\n",
       "      <td>A506401</td>\n",
       "      <td>B</td>\n",
       "      <td>1</td>\n",
       "      <td>2010-04-29 13:36:00</td>\n",
       "      <td>-53594.36</td>\n",
       "      <td>Guest</td>\n",
       "      <td>United Kingdom</td>\n",
       "      <td>adjust bad debt</td>\n",
       "    </tr>\n",
       "    <tr>\n",
       "      <th>276274</th>\n",
       "      <td>A516228</td>\n",
       "      <td>B</td>\n",
       "      <td>1</td>\n",
       "      <td>2010-07-19 11:24:00</td>\n",
       "      <td>-44031.79</td>\n",
       "      <td>Guest</td>\n",
       "      <td>United Kingdom</td>\n",
       "      <td>adjust bad debt</td>\n",
       "    </tr>\n",
       "    <tr>\n",
       "      <th>403472</th>\n",
       "      <td>A528059</td>\n",
       "      <td>B</td>\n",
       "      <td>1</td>\n",
       "      <td>2010-10-20 12:04:00</td>\n",
       "      <td>-38925.87</td>\n",
       "      <td>Guest</td>\n",
       "      <td>United Kingdom</td>\n",
       "      <td>adjust bad debt</td>\n",
       "    </tr>\n",
       "  </tbody>\n",
       "</table>\n",
       "</div>"
      ],
      "text/plain": [
       "       Transaction_ID Product_Code  Units_Sold Transaction_Timestamp  \\\n",
       "179403        A506401            B           1   2010-04-29 13:36:00   \n",
       "276274        A516228            B           1   2010-07-19 11:24:00   \n",
       "403472        A528059            B           1   2010-10-20 12:04:00   \n",
       "\n",
       "        Unit_Cost Client_ID   Client_Region Product_Title_Cleaned  \n",
       "179403  -53594.36     Guest  United Kingdom       adjust bad debt  \n",
       "276274  -44031.79     Guest  United Kingdom       adjust bad debt  \n",
       "403472  -38925.87     Guest  United Kingdom       adjust bad debt  "
      ]
     },
     "execution_count": 189,
     "metadata": {},
     "output_type": "execute_result"
    }
   ],
   "source": [
    "# negative values in Unit Cost must be outliers\n",
    "churn[churn['Unit_Cost'] < 0]"
   ]
  },
  {
   "cell_type": "code",
   "execution_count": 190,
   "id": "bf99263f",
   "metadata": {},
   "outputs": [],
   "source": [
    "# these are not product purchases at all\n",
    "# we can drop them\n",
    "churn.drop(churn[churn['Unit_Cost'] < 0].index, inplace=True)"
   ]
  },
  {
   "cell_type": "code",
   "execution_count": 191,
   "id": "2ac3433d",
   "metadata": {},
   "outputs": [
    {
     "data": {
      "text/plain": [
       "count    518593.000000\n",
       "mean          4.979516\n",
       "std          97.128954\n",
       "min           0.000000\n",
       "25%           1.250000\n",
       "50%           2.100000\n",
       "75%           4.210000\n",
       "max       25111.090000\n",
       "Name: Unit_Cost, dtype: float64"
      ]
     },
     "execution_count": 191,
     "metadata": {},
     "output_type": "execute_result"
    }
   ],
   "source": [
    "churn['Unit_Cost'].describe()"
   ]
  },
  {
   "cell_type": "code",
   "execution_count": 192,
   "id": "71b8da45",
   "metadata": {},
   "outputs": [
    {
     "data": {
      "text/html": [
       "<div>\n",
       "<style scoped>\n",
       "    .dataframe tbody tr th:only-of-type {\n",
       "        vertical-align: middle;\n",
       "    }\n",
       "\n",
       "    .dataframe tbody tr th {\n",
       "        vertical-align: top;\n",
       "    }\n",
       "\n",
       "    .dataframe thead th {\n",
       "        text-align: right;\n",
       "    }\n",
       "</style>\n",
       "<table border=\"1\" class=\"dataframe\">\n",
       "  <thead>\n",
       "    <tr style=\"text-align: right;\">\n",
       "      <th></th>\n",
       "      <th>Transaction_ID</th>\n",
       "      <th>Product_Code</th>\n",
       "      <th>Units_Sold</th>\n",
       "      <th>Transaction_Timestamp</th>\n",
       "      <th>Unit_Cost</th>\n",
       "      <th>Client_ID</th>\n",
       "      <th>Client_Region</th>\n",
       "      <th>Product_Title_Cleaned</th>\n",
       "    </tr>\n",
       "  </thead>\n",
       "  <tbody>\n",
       "    <tr>\n",
       "      <th>135012</th>\n",
       "      <td>C502262</td>\n",
       "      <td>M</td>\n",
       "      <td>-1</td>\n",
       "      <td>2010-03-23 15:20:00</td>\n",
       "      <td>10953.50</td>\n",
       "      <td>12918.0</td>\n",
       "      <td>United Kingdom</td>\n",
       "      <td>manual</td>\n",
       "    </tr>\n",
       "    <tr>\n",
       "      <th>135013</th>\n",
       "      <td>502263</td>\n",
       "      <td>M</td>\n",
       "      <td>1</td>\n",
       "      <td>2010-03-23 15:22:00</td>\n",
       "      <td>10953.50</td>\n",
       "      <td>12918.0</td>\n",
       "      <td>United Kingdom</td>\n",
       "      <td>manual</td>\n",
       "    </tr>\n",
       "    <tr>\n",
       "      <th>135014</th>\n",
       "      <td>C502264</td>\n",
       "      <td>M</td>\n",
       "      <td>-1</td>\n",
       "      <td>2010-03-23 15:24:00</td>\n",
       "      <td>10953.50</td>\n",
       "      <td>12918.0</td>\n",
       "      <td>United Kingdom</td>\n",
       "      <td>manual</td>\n",
       "    </tr>\n",
       "    <tr>\n",
       "      <th>135015</th>\n",
       "      <td>502265</td>\n",
       "      <td>M</td>\n",
       "      <td>1</td>\n",
       "      <td>2010-03-23 15:28:00</td>\n",
       "      <td>10953.50</td>\n",
       "      <td>Guest</td>\n",
       "      <td>United Kingdom</td>\n",
       "      <td>manual</td>\n",
       "    </tr>\n",
       "    <tr>\n",
       "      <th>241824</th>\n",
       "      <td>C512770</td>\n",
       "      <td>M</td>\n",
       "      <td>-1</td>\n",
       "      <td>2010-06-17 16:52:00</td>\n",
       "      <td>25111.09</td>\n",
       "      <td>17399.0</td>\n",
       "      <td>United Kingdom</td>\n",
       "      <td>manual</td>\n",
       "    </tr>\n",
       "    <tr>\n",
       "      <th>241827</th>\n",
       "      <td>512771</td>\n",
       "      <td>M</td>\n",
       "      <td>1</td>\n",
       "      <td>2010-06-17 16:53:00</td>\n",
       "      <td>25111.09</td>\n",
       "      <td>Guest</td>\n",
       "      <td>United Kingdom</td>\n",
       "      <td>manual</td>\n",
       "    </tr>\n",
       "    <tr>\n",
       "      <th>320581</th>\n",
       "      <td>C520667</td>\n",
       "      <td>BANKCHARGES</td>\n",
       "      <td>-1</td>\n",
       "      <td>2010-08-27 13:42:00</td>\n",
       "      <td>18910.69</td>\n",
       "      <td>Guest</td>\n",
       "      <td>United Kingdom</td>\n",
       "      <td>bank charges</td>\n",
       "    </tr>\n",
       "    <tr>\n",
       "      <th>342135</th>\n",
       "      <td>C522793</td>\n",
       "      <td>M</td>\n",
       "      <td>-1</td>\n",
       "      <td>2010-09-16 14:53:00</td>\n",
       "      <td>10468.80</td>\n",
       "      <td>14063.0</td>\n",
       "      <td>United Kingdom</td>\n",
       "      <td>manual</td>\n",
       "    </tr>\n",
       "    <tr>\n",
       "      <th>342147</th>\n",
       "      <td>522796</td>\n",
       "      <td>M</td>\n",
       "      <td>1</td>\n",
       "      <td>2010-09-16 15:12:00</td>\n",
       "      <td>10468.80</td>\n",
       "      <td>Guest</td>\n",
       "      <td>United Kingdom</td>\n",
       "      <td>manual</td>\n",
       "    </tr>\n",
       "    <tr>\n",
       "      <th>358639</th>\n",
       "      <td>524159</td>\n",
       "      <td>M</td>\n",
       "      <td>1</td>\n",
       "      <td>2010-09-27 16:12:00</td>\n",
       "      <td>10468.80</td>\n",
       "      <td>14063.0</td>\n",
       "      <td>United Kingdom</td>\n",
       "      <td>manual</td>\n",
       "    </tr>\n",
       "    <tr>\n",
       "      <th>358669</th>\n",
       "      <td>C524161</td>\n",
       "      <td>M</td>\n",
       "      <td>-1</td>\n",
       "      <td>2010-09-27 16:16:00</td>\n",
       "      <td>10468.80</td>\n",
       "      <td>Guest</td>\n",
       "      <td>United Kingdom</td>\n",
       "      <td>manual</td>\n",
       "    </tr>\n",
       "    <tr>\n",
       "      <th>372833</th>\n",
       "      <td>C525398</td>\n",
       "      <td>M</td>\n",
       "      <td>-1</td>\n",
       "      <td>2010-10-05 11:47:00</td>\n",
       "      <td>10468.80</td>\n",
       "      <td>14063.0</td>\n",
       "      <td>United Kingdom</td>\n",
       "      <td>manual</td>\n",
       "    </tr>\n",
       "    <tr>\n",
       "      <th>372834</th>\n",
       "      <td>525399</td>\n",
       "      <td>M</td>\n",
       "      <td>1</td>\n",
       "      <td>2010-10-05 11:49:00</td>\n",
       "      <td>10468.80</td>\n",
       "      <td>Guest</td>\n",
       "      <td>United Kingdom</td>\n",
       "      <td>manual</td>\n",
       "    </tr>\n",
       "    <tr>\n",
       "      <th>517953</th>\n",
       "      <td>C537630</td>\n",
       "      <td>AMAZONFEE</td>\n",
       "      <td>-1</td>\n",
       "      <td>2010-12-07 15:04:00</td>\n",
       "      <td>13541.33</td>\n",
       "      <td>Guest</td>\n",
       "      <td>United Kingdom</td>\n",
       "      <td>amazon fee</td>\n",
       "    </tr>\n",
       "    <tr>\n",
       "      <th>517955</th>\n",
       "      <td>537632</td>\n",
       "      <td>AMAZONFEE</td>\n",
       "      <td>1</td>\n",
       "      <td>2010-12-07 15:08:00</td>\n",
       "      <td>13541.33</td>\n",
       "      <td>Guest</td>\n",
       "      <td>United Kingdom</td>\n",
       "      <td>amazon fee</td>\n",
       "    </tr>\n",
       "    <tr>\n",
       "      <th>519170</th>\n",
       "      <td>C537644</td>\n",
       "      <td>AMAZONFEE</td>\n",
       "      <td>-1</td>\n",
       "      <td>2010-12-07 15:34:00</td>\n",
       "      <td>13474.79</td>\n",
       "      <td>Guest</td>\n",
       "      <td>United Kingdom</td>\n",
       "      <td>amazon fee</td>\n",
       "    </tr>\n",
       "    <tr>\n",
       "      <th>519294</th>\n",
       "      <td>C537651</td>\n",
       "      <td>AMAZONFEE</td>\n",
       "      <td>-1</td>\n",
       "      <td>2010-12-07 15:49:00</td>\n",
       "      <td>13541.33</td>\n",
       "      <td>Guest</td>\n",
       "      <td>United Kingdom</td>\n",
       "      <td>amazon fee</td>\n",
       "    </tr>\n",
       "  </tbody>\n",
       "</table>\n",
       "</div>"
      ],
      "text/plain": [
       "       Transaction_ID Product_Code  Units_Sold Transaction_Timestamp  \\\n",
       "135012        C502262            M          -1   2010-03-23 15:20:00   \n",
       "135013         502263            M           1   2010-03-23 15:22:00   \n",
       "135014        C502264            M          -1   2010-03-23 15:24:00   \n",
       "135015         502265            M           1   2010-03-23 15:28:00   \n",
       "241824        C512770            M          -1   2010-06-17 16:52:00   \n",
       "241827         512771            M           1   2010-06-17 16:53:00   \n",
       "320581        C520667  BANKCHARGES          -1   2010-08-27 13:42:00   \n",
       "342135        C522793            M          -1   2010-09-16 14:53:00   \n",
       "342147         522796            M           1   2010-09-16 15:12:00   \n",
       "358639         524159            M           1   2010-09-27 16:12:00   \n",
       "358669        C524161            M          -1   2010-09-27 16:16:00   \n",
       "372833        C525398            M          -1   2010-10-05 11:47:00   \n",
       "372834         525399            M           1   2010-10-05 11:49:00   \n",
       "517953        C537630    AMAZONFEE          -1   2010-12-07 15:04:00   \n",
       "517955         537632    AMAZONFEE           1   2010-12-07 15:08:00   \n",
       "519170        C537644    AMAZONFEE          -1   2010-12-07 15:34:00   \n",
       "519294        C537651    AMAZONFEE          -1   2010-12-07 15:49:00   \n",
       "\n",
       "        Unit_Cost Client_ID   Client_Region Product_Title_Cleaned  \n",
       "135012   10953.50   12918.0  United Kingdom                manual  \n",
       "135013   10953.50   12918.0  United Kingdom                manual  \n",
       "135014   10953.50   12918.0  United Kingdom                manual  \n",
       "135015   10953.50     Guest  United Kingdom                manual  \n",
       "241824   25111.09   17399.0  United Kingdom                manual  \n",
       "241827   25111.09     Guest  United Kingdom                manual  \n",
       "320581   18910.69     Guest  United Kingdom          bank charges  \n",
       "342135   10468.80   14063.0  United Kingdom                manual  \n",
       "342147   10468.80     Guest  United Kingdom                manual  \n",
       "358639   10468.80   14063.0  United Kingdom                manual  \n",
       "358669   10468.80     Guest  United Kingdom                manual  \n",
       "372833   10468.80   14063.0  United Kingdom                manual  \n",
       "372834   10468.80     Guest  United Kingdom                manual  \n",
       "517953   13541.33     Guest  United Kingdom            amazon fee  \n",
       "517955   13541.33     Guest  United Kingdom            amazon fee  \n",
       "519170   13474.79     Guest  United Kingdom            amazon fee  \n",
       "519294   13541.33     Guest  United Kingdom            amazon fee  "
      ]
     },
     "execution_count": 192,
     "metadata": {},
     "output_type": "execute_result"
    }
   ],
   "source": [
    "churn[churn['Unit_Cost'] > 10000]"
   ]
  },
  {
   "cell_type": "code",
   "execution_count": 193,
   "id": "fd1e22c1",
   "metadata": {},
   "outputs": [],
   "source": [
    "# most of the purchases with cost > 10000 are not product purchases\n",
    "# they are manual entries\n",
    "# they have units = (negative)\n",
    "# they have product code = M\n",
    "# there are products with some more junk titles"
   ]
  },
  {
   "cell_type": "code",
   "execution_count": 194,
   "id": "1f14820e",
   "metadata": {},
   "outputs": [],
   "source": [
    "churn.drop(churn[churn['Unit_Cost'] > 10000].index, inplace=True)"
   ]
  },
  {
   "cell_type": "code",
   "execution_count": 195,
   "id": "da487b64",
   "metadata": {},
   "outputs": [
    {
     "data": {
      "text/plain": [
       "Product_Code\n",
       "M    836\n",
       "D    100\n",
       "S     41\n",
       "Name: count, dtype: int64"
      ]
     },
     "execution_count": 195,
     "metadata": {},
     "output_type": "execute_result"
    }
   ],
   "source": [
    "single_codes = churn[churn['Product_Code'].str.len() == 1]\n",
    "single_codes['Product_Code'].value_counts()"
   ]
  },
  {
   "cell_type": "code",
   "execution_count": 196,
   "id": "7772baa2",
   "metadata": {},
   "outputs": [
    {
     "data": {
      "text/html": [
       "<div>\n",
       "<style scoped>\n",
       "    .dataframe tbody tr th:only-of-type {\n",
       "        vertical-align: middle;\n",
       "    }\n",
       "\n",
       "    .dataframe tbody tr th {\n",
       "        vertical-align: top;\n",
       "    }\n",
       "\n",
       "    .dataframe thead th {\n",
       "        text-align: right;\n",
       "    }\n",
       "</style>\n",
       "<table border=\"1\" class=\"dataframe\">\n",
       "  <thead>\n",
       "    <tr style=\"text-align: right;\">\n",
       "      <th></th>\n",
       "      <th>Product_Code</th>\n",
       "      <th>Product_Title_Cleaned</th>\n",
       "      <th>Unit_Cost</th>\n",
       "      <th>Units_Sold</th>\n",
       "    </tr>\n",
       "  </thead>\n",
       "  <tbody>\n",
       "    <tr>\n",
       "      <th>735</th>\n",
       "      <td>D</td>\n",
       "      <td>discount</td>\n",
       "      <td>9.00</td>\n",
       "      <td>-1</td>\n",
       "    </tr>\n",
       "    <tr>\n",
       "      <th>736</th>\n",
       "      <td>D</td>\n",
       "      <td>discount</td>\n",
       "      <td>19.00</td>\n",
       "      <td>-1</td>\n",
       "    </tr>\n",
       "    <tr>\n",
       "      <th>2697</th>\n",
       "      <td>M</td>\n",
       "      <td>manual</td>\n",
       "      <td>4.00</td>\n",
       "      <td>1</td>\n",
       "    </tr>\n",
       "    <tr>\n",
       "      <th>3053</th>\n",
       "      <td>M</td>\n",
       "      <td>manual</td>\n",
       "      <td>5.10</td>\n",
       "      <td>-1</td>\n",
       "    </tr>\n",
       "    <tr>\n",
       "      <th>5897</th>\n",
       "      <td>M</td>\n",
       "      <td>manual</td>\n",
       "      <td>69.57</td>\n",
       "      <td>-1</td>\n",
       "    </tr>\n",
       "    <tr>\n",
       "      <th>...</th>\n",
       "      <td>...</td>\n",
       "      <td>...</td>\n",
       "      <td>...</td>\n",
       "      <td>...</td>\n",
       "    </tr>\n",
       "    <tr>\n",
       "      <th>521122</th>\n",
       "      <td>M</td>\n",
       "      <td>manual</td>\n",
       "      <td>2.95</td>\n",
       "      <td>12</td>\n",
       "    </tr>\n",
       "    <tr>\n",
       "      <th>521124</th>\n",
       "      <td>M</td>\n",
       "      <td>manual</td>\n",
       "      <td>0.19</td>\n",
       "      <td>12</td>\n",
       "    </tr>\n",
       "    <tr>\n",
       "      <th>522330</th>\n",
       "      <td>D</td>\n",
       "      <td>discount</td>\n",
       "      <td>267.12</td>\n",
       "      <td>-1</td>\n",
       "    </tr>\n",
       "    <tr>\n",
       "      <th>524696</th>\n",
       "      <td>M</td>\n",
       "      <td>manual</td>\n",
       "      <td>0.50</td>\n",
       "      <td>-4</td>\n",
       "    </tr>\n",
       "    <tr>\n",
       "      <th>524776</th>\n",
       "      <td>M</td>\n",
       "      <td>manual</td>\n",
       "      <td>15.00</td>\n",
       "      <td>1</td>\n",
       "    </tr>\n",
       "  </tbody>\n",
       "</table>\n",
       "<p>977 rows × 4 columns</p>\n",
       "</div>"
      ],
      "text/plain": [
       "       Product_Code Product_Title_Cleaned  Unit_Cost  Units_Sold\n",
       "735               D              discount       9.00          -1\n",
       "736               D              discount      19.00          -1\n",
       "2697              M                manual       4.00           1\n",
       "3053              M                manual       5.10          -1\n",
       "5897              M                manual      69.57          -1\n",
       "...             ...                   ...        ...         ...\n",
       "521122            M                manual       2.95          12\n",
       "521124            M                manual       0.19          12\n",
       "522330            D              discount     267.12          -1\n",
       "524696            M                manual       0.50          -4\n",
       "524776            M                manual      15.00           1\n",
       "\n",
       "[977 rows x 4 columns]"
      ]
     },
     "execution_count": 196,
     "metadata": {},
     "output_type": "execute_result"
    }
   ],
   "source": [
    "# checking the records whose product code has 1 letter only\n",
    "single_codes[['Product_Code', 'Product_Title_Cleaned', 'Unit_Cost', 'Units_Sold']]"
   ]
  },
  {
   "cell_type": "code",
   "execution_count": 197,
   "id": "70c7f81f",
   "metadata": {},
   "outputs": [],
   "source": [
    "churn.drop(single_codes.index, inplace=True)"
   ]
  },
  {
   "cell_type": "code",
   "execution_count": 198,
   "id": "f055a04d",
   "metadata": {},
   "outputs": [],
   "source": [
    "# replacing codes with any other possible junk product codes"
   ]
  },
  {
   "cell_type": "code",
   "execution_count": 199,
   "id": "f8743671",
   "metadata": {},
   "outputs": [],
   "source": [
    "junk_codes = ['', 'NAN', 'NA', '?', 'NONE', 'NULL']\n",
    "churn['Product_Code'] = churn['Product_Code'].replace(junk_codes, 'JUNK')"
   ]
  },
  {
   "cell_type": "code",
   "execution_count": 200,
   "id": "169ba980",
   "metadata": {},
   "outputs": [
    {
     "name": "stdout",
     "output_type": "stream",
     "text": [
      "0 0 517599\n"
     ]
    }
   ],
   "source": [
    "junk_code_count = (churn['Product_Code'] == 'JUNK').sum()\n",
    "no_code_count = (churn['Product_Code'] == 'no code').sum()\n",
    "other_code_count = ((churn['Product_Code'] != 'JUNK') & (churn['Product_Code'] != 'no code')).sum()\n",
    "print(junk_code_count, no_code_count, other_code_count)"
   ]
  },
  {
   "cell_type": "code",
   "execution_count": 201,
   "id": "e88ff1b8",
   "metadata": {},
   "outputs": [],
   "source": [
    "labels=['Junk Codes', 'No Code', 'Other Codes']\n",
    "sizes=[junk_code_count, no_code_count, other_code_count]"
   ]
  },
  {
   "cell_type": "code",
   "execution_count": 202,
   "id": "5ce12396",
   "metadata": {},
   "outputs": [
    {
     "data": {
      "image/png": "[encoded data removed]",
      "text/plain": [
       "<Figure size 1000x600 with 1 Axes>"
      ]
     },
     "metadata": {},
     "output_type": "display_data"
    }
   ],
   "source": [
    "plt.figure(figsize=(10, 6))\n",
    "plt.pie(sizes, labels=labels)\n",
    "plt.show()"
   ]
  },
  {
   "cell_type": "code",
   "execution_count": 203,
   "id": "f6360627",
   "metadata": {},
   "outputs": [
    {
     "data": {
      "text/html": [
       "<div>\n",
       "<style scoped>\n",
       "    .dataframe tbody tr th:only-of-type {\n",
       "        vertical-align: middle;\n",
       "    }\n",
       "\n",
       "    .dataframe tbody tr th {\n",
       "        vertical-align: top;\n",
       "    }\n",
       "\n",
       "    .dataframe thead th {\n",
       "        text-align: right;\n",
       "    }\n",
       "</style>\n",
       "<table border=\"1\" class=\"dataframe\">\n",
       "  <thead>\n",
       "    <tr style=\"text-align: right;\">\n",
       "      <th></th>\n",
       "      <th>Product_Code</th>\n",
       "      <th>Product_Title_Cleaned</th>\n",
       "      <th>Unit_Cost</th>\n",
       "      <th>Units_Sold</th>\n",
       "    </tr>\n",
       "  </thead>\n",
       "  <tbody>\n",
       "    <tr>\n",
       "      <th>178</th>\n",
       "      <td>22087</td>\n",
       "      <td>paper bunting white lace</td>\n",
       "      <td>2.95</td>\n",
       "      <td>-12</td>\n",
       "    </tr>\n",
       "    <tr>\n",
       "      <th>179</th>\n",
       "      <td>85206A</td>\n",
       "      <td>cream felt easter egg basket</td>\n",
       "      <td>1.65</td>\n",
       "      <td>-6</td>\n",
       "    </tr>\n",
       "    <tr>\n",
       "      <th>180</th>\n",
       "      <td>21895</td>\n",
       "      <td>potting shed sow 'n' grow set</td>\n",
       "      <td>4.25</td>\n",
       "      <td>-4</td>\n",
       "    </tr>\n",
       "    <tr>\n",
       "      <th>181</th>\n",
       "      <td>21896</td>\n",
       "      <td>potting shed twine</td>\n",
       "      <td>2.10</td>\n",
       "      <td>-6</td>\n",
       "    </tr>\n",
       "    <tr>\n",
       "      <th>182</th>\n",
       "      <td>22083</td>\n",
       "      <td>paper chain kit retro spot</td>\n",
       "      <td>2.95</td>\n",
       "      <td>-12</td>\n",
       "    </tr>\n",
       "    <tr>\n",
       "      <th>...</th>\n",
       "      <td>...</td>\n",
       "      <td>...</td>\n",
       "      <td>...</td>\n",
       "      <td>...</td>\n",
       "    </tr>\n",
       "    <tr>\n",
       "      <th>525231</th>\n",
       "      <td>21324</td>\n",
       "      <td>nan</td>\n",
       "      <td>0.00</td>\n",
       "      <td>-18</td>\n",
       "    </tr>\n",
       "    <tr>\n",
       "      <th>525232</th>\n",
       "      <td>20892</td>\n",
       "      <td>nan</td>\n",
       "      <td>0.00</td>\n",
       "      <td>-32</td>\n",
       "    </tr>\n",
       "    <tr>\n",
       "      <th>525234</th>\n",
       "      <td>46000S</td>\n",
       "      <td>dotcom sales</td>\n",
       "      <td>0.00</td>\n",
       "      <td>-100</td>\n",
       "    </tr>\n",
       "    <tr>\n",
       "      <th>525235</th>\n",
       "      <td>46000M</td>\n",
       "      <td>dotcom sales</td>\n",
       "      <td>0.00</td>\n",
       "      <td>-100</td>\n",
       "    </tr>\n",
       "    <tr>\n",
       "      <th>525282</th>\n",
       "      <td>35004B</td>\n",
       "      <td>set of 3 black flying ducks</td>\n",
       "      <td>1.95</td>\n",
       "      <td>-1</td>\n",
       "    </tr>\n",
       "  </tbody>\n",
       "</table>\n",
       "<p>11871 rows × 4 columns</p>\n",
       "</div>"
      ],
      "text/plain": [
       "       Product_Code          Product_Title_Cleaned  Unit_Cost  Units_Sold\n",
       "178           22087       paper bunting white lace       2.95         -12\n",
       "179          85206A   cream felt easter egg basket       1.65          -6\n",
       "180           21895  potting shed sow 'n' grow set       4.25          -4\n",
       "181           21896             potting shed twine       2.10          -6\n",
       "182           22083     paper chain kit retro spot       2.95         -12\n",
       "...             ...                            ...        ...         ...\n",
       "525231        21324                            nan       0.00         -18\n",
       "525232        20892                            nan       0.00         -32\n",
       "525234       46000S                   dotcom sales       0.00        -100\n",
       "525235       46000M                   dotcom sales       0.00        -100\n",
       "525282       35004B    set of 3 black flying ducks       1.95          -1\n",
       "\n",
       "[11871 rows x 4 columns]"
      ]
     },
     "execution_count": 203,
     "metadata": {},
     "output_type": "execute_result"
    }
   ],
   "source": [
    "# now we will check the columns which have negative units\n",
    "negative_unit_cost = churn[churn['Units_Sold'] < 0]\n",
    "negative_unit_cost[['Product_Code', 'Product_Title_Cleaned', 'Unit_Cost', 'Units_Sold']]"
   ]
  },
  {
   "cell_type": "code",
   "execution_count": 204,
   "id": "c85e3a05",
   "metadata": {},
   "outputs": [],
   "source": [
    "#since we have many such records, we will label them as returns\n",
    "churn['Neg_Units'] = churn['Units_Sold'] < 0\n",
    "# neg units can imply returns\n",
    "# hence the customers can be more likely to churn"
   ]
  },
  {
   "cell_type": "code",
   "execution_count": 205,
   "id": "d6a39659",
   "metadata": {},
   "outputs": [],
   "source": [
    "churn.drop(churn[churn['Units_Sold'] < 0].index, inplace =True)"
   ]
  },
  {
   "cell_type": "code",
   "execution_count": 206,
   "id": "9cc58756",
   "metadata": {},
   "outputs": [
    {
     "data": {
      "text/plain": [
       "count    505728.000000\n",
       "mean          3.723055\n",
       "std          15.908403\n",
       "min           0.000000\n",
       "25%           1.250000\n",
       "50%           2.100000\n",
       "75%           4.210000\n",
       "max        6706.710000\n",
       "Name: Unit_Cost, dtype: float64"
      ]
     },
     "execution_count": 206,
     "metadata": {},
     "output_type": "execute_result"
    }
   ],
   "source": [
    "churn['Unit_Cost'].describe()"
   ]
  },
  {
   "cell_type": "code",
   "execution_count": 207,
   "id": "2757fdce",
   "metadata": {},
   "outputs": [
    {
     "data": {
      "text/html": [
       "<div>\n",
       "<style scoped>\n",
       "    .dataframe tbody tr th:only-of-type {\n",
       "        vertical-align: middle;\n",
       "    }\n",
       "\n",
       "    .dataframe tbody tr th {\n",
       "        vertical-align: top;\n",
       "    }\n",
       "\n",
       "    .dataframe thead th {\n",
       "        text-align: right;\n",
       "    }\n",
       "</style>\n",
       "<table border=\"1\" class=\"dataframe\">\n",
       "  <thead>\n",
       "    <tr style=\"text-align: right;\">\n",
       "      <th></th>\n",
       "      <th>Transaction_ID</th>\n",
       "      <th>Product_Code</th>\n",
       "      <th>Units_Sold</th>\n",
       "      <th>Transaction_Timestamp</th>\n",
       "      <th>Unit_Cost</th>\n",
       "      <th>Client_ID</th>\n",
       "      <th>Client_Region</th>\n",
       "      <th>Product_Title_Cleaned</th>\n",
       "      <th>Neg_Units</th>\n",
       "    </tr>\n",
       "  </thead>\n",
       "  <tbody>\n",
       "    <tr>\n",
       "      <th>2379</th>\n",
       "      <td>489597</td>\n",
       "      <td>DOT</td>\n",
       "      <td>1</td>\n",
       "      <td>2009-12-01 14:28:00</td>\n",
       "      <td>647.19</td>\n",
       "      <td>Guest</td>\n",
       "      <td>United Kingdom</td>\n",
       "      <td>dotcom postage</td>\n",
       "      <td>False</td>\n",
       "    </tr>\n",
       "    <tr>\n",
       "      <th>5063</th>\n",
       "      <td>489856</td>\n",
       "      <td>DOT</td>\n",
       "      <td>1</td>\n",
       "      <td>2009-12-02 14:36:00</td>\n",
       "      <td>470.24</td>\n",
       "      <td>Guest</td>\n",
       "      <td>United Kingdom</td>\n",
       "      <td>dotcom postage</td>\n",
       "      <td>False</td>\n",
       "    </tr>\n",
       "    <tr>\n",
       "      <th>5407</th>\n",
       "      <td>489857</td>\n",
       "      <td>DOT</td>\n",
       "      <td>1</td>\n",
       "      <td>2009-12-02 14:43:00</td>\n",
       "      <td>775.24</td>\n",
       "      <td>Guest</td>\n",
       "      <td>United Kingdom</td>\n",
       "      <td>dotcom postage</td>\n",
       "      <td>False</td>\n",
       "    </tr>\n",
       "    <tr>\n",
       "      <th>8374</th>\n",
       "      <td>490074</td>\n",
       "      <td>DOT</td>\n",
       "      <td>1</td>\n",
       "      <td>2009-12-03 14:39:00</td>\n",
       "      <td>862.67</td>\n",
       "      <td>Guest</td>\n",
       "      <td>United Kingdom</td>\n",
       "      <td>dotcom postage</td>\n",
       "      <td>False</td>\n",
       "    </tr>\n",
       "    <tr>\n",
       "      <th>9701</th>\n",
       "      <td>490149</td>\n",
       "      <td>DOT</td>\n",
       "      <td>1</td>\n",
       "      <td>2009-12-04 09:43:00</td>\n",
       "      <td>922.05</td>\n",
       "      <td>Guest</td>\n",
       "      <td>United Kingdom</td>\n",
       "      <td>dotcom postage</td>\n",
       "      <td>False</td>\n",
       "    </tr>\n",
       "    <tr>\n",
       "      <th>...</th>\n",
       "      <td>...</td>\n",
       "      <td>...</td>\n",
       "      <td>...</td>\n",
       "      <td>...</td>\n",
       "      <td>...</td>\n",
       "      <td>...</td>\n",
       "      <td>...</td>\n",
       "      <td>...</td>\n",
       "      <td>...</td>\n",
       "    </tr>\n",
       "    <tr>\n",
       "      <th>521479</th>\n",
       "      <td>537823</td>\n",
       "      <td>DOT</td>\n",
       "      <td>1</td>\n",
       "      <td>2010-12-08 14:25:00</td>\n",
       "      <td>729.42</td>\n",
       "      <td>Guest</td>\n",
       "      <td>United Kingdom</td>\n",
       "      <td>dotcom postage</td>\n",
       "      <td>False</td>\n",
       "    </tr>\n",
       "    <tr>\n",
       "      <th>524272</th>\n",
       "      <td>538071</td>\n",
       "      <td>DOT</td>\n",
       "      <td>1</td>\n",
       "      <td>2010-12-09 14:09:00</td>\n",
       "      <td>885.94</td>\n",
       "      <td>Guest</td>\n",
       "      <td>United Kingdom</td>\n",
       "      <td>dotcom postage</td>\n",
       "      <td>False</td>\n",
       "    </tr>\n",
       "    <tr>\n",
       "      <th>524887</th>\n",
       "      <td>538148</td>\n",
       "      <td>DOT</td>\n",
       "      <td>1</td>\n",
       "      <td>2010-12-09 16:26:00</td>\n",
       "      <td>547.32</td>\n",
       "      <td>Guest</td>\n",
       "      <td>United Kingdom</td>\n",
       "      <td>dotcom postage</td>\n",
       "      <td>False</td>\n",
       "    </tr>\n",
       "    <tr>\n",
       "      <th>525000</th>\n",
       "      <td>538149</td>\n",
       "      <td>DOT</td>\n",
       "      <td>1</td>\n",
       "      <td>2010-12-09 16:27:00</td>\n",
       "      <td>620.68</td>\n",
       "      <td>Guest</td>\n",
       "      <td>United Kingdom</td>\n",
       "      <td>dotcom postage</td>\n",
       "      <td>False</td>\n",
       "    </tr>\n",
       "    <tr>\n",
       "      <th>525126</th>\n",
       "      <td>538153</td>\n",
       "      <td>DOT</td>\n",
       "      <td>1</td>\n",
       "      <td>2010-12-09 16:31:00</td>\n",
       "      <td>822.94</td>\n",
       "      <td>Guest</td>\n",
       "      <td>United Kingdom</td>\n",
       "      <td>dotcom postage</td>\n",
       "      <td>False</td>\n",
       "    </tr>\n",
       "  </tbody>\n",
       "</table>\n",
       "<p>110 rows × 9 columns</p>\n",
       "</div>"
      ],
      "text/plain": [
       "       Transaction_ID Product_Code  Units_Sold Transaction_Timestamp  \\\n",
       "2379           489597          DOT           1   2009-12-01 14:28:00   \n",
       "5063           489856          DOT           1   2009-12-02 14:36:00   \n",
       "5407           489857          DOT           1   2009-12-02 14:43:00   \n",
       "8374           490074          DOT           1   2009-12-03 14:39:00   \n",
       "9701           490149          DOT           1   2009-12-04 09:43:00   \n",
       "...               ...          ...         ...                   ...   \n",
       "521479         537823          DOT           1   2010-12-08 14:25:00   \n",
       "524272         538071          DOT           1   2010-12-09 14:09:00   \n",
       "524887         538148          DOT           1   2010-12-09 16:26:00   \n",
       "525000         538149          DOT           1   2010-12-09 16:27:00   \n",
       "525126         538153          DOT           1   2010-12-09 16:31:00   \n",
       "\n",
       "        Unit_Cost Client_ID   Client_Region Product_Title_Cleaned  Neg_Units  \n",
       "2379       647.19     Guest  United Kingdom        dotcom postage      False  \n",
       "5063       470.24     Guest  United Kingdom        dotcom postage      False  \n",
       "5407       775.24     Guest  United Kingdom        dotcom postage      False  \n",
       "8374       862.67     Guest  United Kingdom        dotcom postage      False  \n",
       "9701       922.05     Guest  United Kingdom        dotcom postage      False  \n",
       "...           ...       ...             ...                   ...        ...  \n",
       "521479     729.42     Guest  United Kingdom        dotcom postage      False  \n",
       "524272     885.94     Guest  United Kingdom        dotcom postage      False  \n",
       "524887     547.32     Guest  United Kingdom        dotcom postage      False  \n",
       "525000     620.68     Guest  United Kingdom        dotcom postage      False  \n",
       "525126     822.94     Guest  United Kingdom        dotcom postage      False  \n",
       "\n",
       "[110 rows x 9 columns]"
      ]
     },
     "execution_count": 207,
     "metadata": {},
     "output_type": "execute_result"
    }
   ],
   "source": [
    "churn[churn['Unit_Cost'] > 300]"
   ]
  },
  {
   "cell_type": "code",
   "execution_count": 208,
   "id": "b30e9d6a",
   "metadata": {},
   "outputs": [
    {
     "data": {
      "text/plain": [
       "Product_Title_Cleaned\n",
       "flag of st george car flag    66\n",
       "Name: count, dtype: int64"
      ]
     },
     "execution_count": 208,
     "metadata": {},
     "output_type": "execute_result"
    }
   ],
   "source": [
    "churn[churn['Product_Code'] == '84016']['Product_Title_Cleaned'].value_counts()"
   ]
  },
  {
   "cell_type": "code",
   "execution_count": 209,
   "id": "331abed8",
   "metadata": {},
   "outputs": [
    {
     "data": {
      "text/plain": [
       "Unit_Cost\n",
       "0.42       46\n",
       "0.00        6\n",
       "25.53       3\n",
       "93.61       2\n",
       "0.83        1\n",
       "25.52       1\n",
       "280.75      1\n",
       "867.79      1\n",
       "0.35        1\n",
       "408.40      1\n",
       "1157.15     1\n",
       "0.81        1\n",
       "272.27      1\n",
       "Name: count, dtype: int64"
      ]
     },
     "execution_count": 209,
     "metadata": {},
     "output_type": "execute_result"
    }
   ],
   "source": [
    "churn[churn['Product_Code'] == '84016']['Unit_Cost'].value_counts()"
   ]
  },
  {
   "cell_type": "code",
   "execution_count": 210,
   "id": "41fea8e4",
   "metadata": {},
   "outputs": [],
   "source": [
    "# same product is being sold for different, highly varying prices\n",
    "# we need to remove them\n",
    "churn.drop(churn[churn['Product_Code'] == '84016'].index, inplace = True)"
   ]
  },
  {
   "cell_type": "code",
   "execution_count": 211,
   "id": "423ce273",
   "metadata": {},
   "outputs": [],
   "source": [
    "# we should also drop items with code DOT \n",
    "churn.drop(churn[churn['Product_Code'].isin(['DOT', 'AMAZONFEE', 'POST', 'ADJUST', 'ADJUST2'])].index, inplace = True)"
   ]
  },
  {
   "cell_type": "code",
   "execution_count": 212,
   "id": "307ff023",
   "metadata": {},
   "outputs": [
    {
     "data": {
      "image/png": "[encoded data removed]",
      "text/plain": [
       "<Figure size 640x480 with 1 Axes>"
      ]
     },
     "metadata": {},
     "output_type": "display_data"
    }
   ],
   "source": [
    "plt.hist(churn[churn['Unit_Cost'].between(0, 20)]['Unit_Cost'], bins=50)\n",
    "plt.title(\"Unit Cost Distribution (0–20)\")\n",
    "plt.show()"
   ]
  },
  {
   "cell_type": "code",
   "execution_count": 213,
   "id": "7ff673d1",
   "metadata": {},
   "outputs": [],
   "source": [
    "# the distribution is right skewed"
   ]
  },
  {
   "cell_type": "code",
   "execution_count": 214,
   "id": "f613adb3",
   "metadata": {},
   "outputs": [
    {
     "data": {
      "text/plain": [
       "count    504126.000000\n",
       "mean         11.833300\n",
       "std          92.456695\n",
       "min           1.000000\n",
       "25%           1.000000\n",
       "50%           3.000000\n",
       "75%          12.000000\n",
       "max       19152.000000\n",
       "Name: Units_Sold, dtype: float64"
      ]
     },
     "execution_count": 214,
     "metadata": {},
     "output_type": "execute_result"
    }
   ],
   "source": [
    "churn['Units_Sold'].describe()"
   ]
  },
  {
   "cell_type": "code",
   "execution_count": 215,
   "id": "fc2c164c",
   "metadata": {},
   "outputs": [
    {
     "data": {
      "image/png": "[encoded data removed]",
      "text/plain": [
       "<Figure size 640x480 with 1 Axes>"
      ]
     },
     "metadata": {},
     "output_type": "display_data"
    }
   ],
   "source": [
    "plt.hist(churn[churn['Units_Sold'] <= 60]['Units_Sold'], bins=50)\n",
    "plt.title(\"Units Sold (0–50)\")\n",
    "plt.xlabel(\"Units Sold\")\n",
    "plt.ylabel(\"Frequency\")\n",
    "plt.show()"
   ]
  },
  {
   "cell_type": "code",
   "execution_count": 216,
   "id": "f3320965",
   "metadata": {},
   "outputs": [
    {
     "data": {
      "text/html": [
       "<div>\n",
       "<style scoped>\n",
       "    .dataframe tbody tr th:only-of-type {\n",
       "        vertical-align: middle;\n",
       "    }\n",
       "\n",
       "    .dataframe tbody tr th {\n",
       "        vertical-align: top;\n",
       "    }\n",
       "\n",
       "    .dataframe thead th {\n",
       "        text-align: right;\n",
       "    }\n",
       "</style>\n",
       "<table border=\"1\" class=\"dataframe\">\n",
       "  <thead>\n",
       "    <tr style=\"text-align: right;\">\n",
       "      <th></th>\n",
       "      <th>Transaction_ID</th>\n",
       "      <th>Product_Code</th>\n",
       "      <th>Units_Sold</th>\n",
       "      <th>Transaction_Timestamp</th>\n",
       "      <th>Unit_Cost</th>\n",
       "      <th>Client_ID</th>\n",
       "      <th>Client_Region</th>\n",
       "      <th>Product_Title_Cleaned</th>\n",
       "      <th>Neg_Units</th>\n",
       "    </tr>\n",
       "  </thead>\n",
       "  <tbody>\n",
       "    <tr>\n",
       "      <th>90857</th>\n",
       "      <td>497946</td>\n",
       "      <td>37410</td>\n",
       "      <td>19152</td>\n",
       "      <td>2010-02-15 11:57:00</td>\n",
       "      <td>0.1</td>\n",
       "      <td>13902.0</td>\n",
       "      <td>Denmark</td>\n",
       "      <td>black and white paisley flower mug</td>\n",
       "      <td>False</td>\n",
       "    </tr>\n",
       "    <tr>\n",
       "      <th>127166</th>\n",
       "      <td>501534</td>\n",
       "      <td>21099</td>\n",
       "      <td>12960</td>\n",
       "      <td>2010-03-17 13:09:00</td>\n",
       "      <td>0.1</td>\n",
       "      <td>13902.0</td>\n",
       "      <td>Denmark</td>\n",
       "      <td>set/6 strawberry paper cups</td>\n",
       "      <td>False</td>\n",
       "    </tr>\n",
       "    <tr>\n",
       "      <th>127167</th>\n",
       "      <td>501534</td>\n",
       "      <td>21092</td>\n",
       "      <td>12480</td>\n",
       "      <td>2010-03-17 13:09:00</td>\n",
       "      <td>0.1</td>\n",
       "      <td>13902.0</td>\n",
       "      <td>Denmark</td>\n",
       "      <td>set/6 strawberry paper plates</td>\n",
       "      <td>False</td>\n",
       "    </tr>\n",
       "    <tr>\n",
       "      <th>127168</th>\n",
       "      <td>501534</td>\n",
       "      <td>21091</td>\n",
       "      <td>12960</td>\n",
       "      <td>2010-03-17 13:09:00</td>\n",
       "      <td>0.1</td>\n",
       "      <td>13902.0</td>\n",
       "      <td>Denmark</td>\n",
       "      <td>set/6 woodland paper plates</td>\n",
       "      <td>False</td>\n",
       "    </tr>\n",
       "    <tr>\n",
       "      <th>127169</th>\n",
       "      <td>501534</td>\n",
       "      <td>21085</td>\n",
       "      <td>12744</td>\n",
       "      <td>2010-03-17 13:09:00</td>\n",
       "      <td>0.1</td>\n",
       "      <td>13902.0</td>\n",
       "      <td>Denmark</td>\n",
       "      <td>set/6 woodland paper cups</td>\n",
       "      <td>False</td>\n",
       "    </tr>\n",
       "  </tbody>\n",
       "</table>\n",
       "</div>"
      ],
      "text/plain": [
       "       Transaction_ID Product_Code  Units_Sold Transaction_Timestamp  \\\n",
       "90857          497946        37410       19152   2010-02-15 11:57:00   \n",
       "127166         501534        21099       12960   2010-03-17 13:09:00   \n",
       "127167         501534        21092       12480   2010-03-17 13:09:00   \n",
       "127168         501534        21091       12960   2010-03-17 13:09:00   \n",
       "127169         501534        21085       12744   2010-03-17 13:09:00   \n",
       "\n",
       "        Unit_Cost Client_ID Client_Region               Product_Title_Cleaned  \\\n",
       "90857         0.1   13902.0       Denmark  black and white paisley flower mug   \n",
       "127166        0.1   13902.0       Denmark         set/6 strawberry paper cups   \n",
       "127167        0.1   13902.0       Denmark       set/6 strawberry paper plates   \n",
       "127168        0.1   13902.0       Denmark         set/6 woodland paper plates   \n",
       "127169        0.1   13902.0       Denmark           set/6 woodland paper cups   \n",
       "\n",
       "        Neg_Units  \n",
       "90857       False  \n",
       "127166      False  \n",
       "127167      False  \n",
       "127168      False  \n",
       "127169      False  "
      ]
     },
     "execution_count": 216,
     "metadata": {},
     "output_type": "execute_result"
    }
   ],
   "source": [
    "churn[churn['Units_Sold'] > 10000]"
   ]
  },
  {
   "cell_type": "code",
   "execution_count": 217,
   "id": "252c1344",
   "metadata": {},
   "outputs": [],
   "source": [
    "# all the purchases above 10000 units are meaningful\n",
    "# product with product code 84016 has 0.0 unit cost"
   ]
  },
  {
   "cell_type": "code",
   "execution_count": 218,
   "id": "cddaa9e8",
   "metadata": {},
   "outputs": [
    {
     "data": {
      "text/html": [
       "<div>\n",
       "<style scoped>\n",
       "    .dataframe tbody tr th:only-of-type {\n",
       "        vertical-align: middle;\n",
       "    }\n",
       "\n",
       "    .dataframe tbody tr th {\n",
       "        vertical-align: top;\n",
       "    }\n",
       "\n",
       "    .dataframe thead th {\n",
       "        text-align: right;\n",
       "    }\n",
       "</style>\n",
       "<table border=\"1\" class=\"dataframe\">\n",
       "  <thead>\n",
       "    <tr style=\"text-align: right;\">\n",
       "      <th></th>\n",
       "      <th>Units_Sold</th>\n",
       "      <th>Transaction_Timestamp</th>\n",
       "      <th>Unit_Cost</th>\n",
       "    </tr>\n",
       "  </thead>\n",
       "  <tbody>\n",
       "    <tr>\n",
       "      <th>count</th>\n",
       "      <td>1546.000000</td>\n",
       "      <td>1546</td>\n",
       "      <td>1546.0</td>\n",
       "    </tr>\n",
       "    <tr>\n",
       "      <th>mean</th>\n",
       "      <td>103.201811</td>\n",
       "      <td>2010-06-15 01:51:27.671409920</td>\n",
       "      <td>0.0</td>\n",
       "    </tr>\n",
       "    <tr>\n",
       "      <th>min</th>\n",
       "      <td>1.000000</td>\n",
       "      <td>2009-12-01 17:39:00</td>\n",
       "      <td>0.0</td>\n",
       "    </tr>\n",
       "    <tr>\n",
       "      <th>25%</th>\n",
       "      <td>1.000000</td>\n",
       "      <td>2010-03-05 13:12:45</td>\n",
       "      <td>0.0</td>\n",
       "    </tr>\n",
       "    <tr>\n",
       "      <th>50%</th>\n",
       "      <td>4.000000</td>\n",
       "      <td>2010-06-17 14:10:30</td>\n",
       "      <td>0.0</td>\n",
       "    </tr>\n",
       "    <tr>\n",
       "      <th>75%</th>\n",
       "      <td>25.000000</td>\n",
       "      <td>2010-09-29 16:22:00</td>\n",
       "      <td>0.0</td>\n",
       "    </tr>\n",
       "    <tr>\n",
       "      <th>max</th>\n",
       "      <td>9600.000000</td>\n",
       "      <td>2010-12-09 17:18:00</td>\n",
       "      <td>0.0</td>\n",
       "    </tr>\n",
       "    <tr>\n",
       "      <th>std</th>\n",
       "      <td>537.777572</td>\n",
       "      <td>NaN</td>\n",
       "      <td>0.0</td>\n",
       "    </tr>\n",
       "  </tbody>\n",
       "</table>\n",
       "</div>"
      ],
      "text/plain": [
       "        Units_Sold          Transaction_Timestamp  Unit_Cost\n",
       "count  1546.000000                           1546     1546.0\n",
       "mean    103.201811  2010-06-15 01:51:27.671409920        0.0\n",
       "min       1.000000            2009-12-01 17:39:00        0.0\n",
       "25%       1.000000            2010-03-05 13:12:45        0.0\n",
       "50%       4.000000            2010-06-17 14:10:30        0.0\n",
       "75%      25.000000            2010-09-29 16:22:00        0.0\n",
       "max    9600.000000            2010-12-09 17:18:00        0.0\n",
       "std     537.777572                            NaN        0.0"
      ]
     },
     "execution_count": 218,
     "metadata": {},
     "output_type": "execute_result"
    }
   ],
   "source": [
    "churn[churn['Unit_Cost'] == 0.0].describe()"
   ]
  },
  {
   "cell_type": "code",
   "execution_count": 219,
   "id": "2e4dd0cf",
   "metadata": {},
   "outputs": [],
   "source": [
    "# we are dropping these rows because most of them have nan as titles\n",
    "# they might be free samples given\n",
    "churn.drop(churn[churn['Unit_Cost'] == 0.0].index, inplace=True)"
   ]
  },
  {
   "cell_type": "code",
   "execution_count": 220,
   "id": "2d432245",
   "metadata": {},
   "outputs": [],
   "source": [
    "# lets not drop these rows\n",
    "# we will create a new feature for flagging instead"
   ]
  },
  {
   "cell_type": "markdown",
   "id": "bfe1fcdc",
   "metadata": {},
   "source": [
    "## Feature Engineering"
   ]
  },
  {
   "cell_type": "code",
   "execution_count": 221,
   "id": "1370c21c",
   "metadata": {},
   "outputs": [],
   "source": [
    "# to train the model, we need to create useful features\n",
    "# from the features that already exist"
   ]
  },
  {
   "cell_type": "code",
   "execution_count": 222,
   "id": "68d4d4fb",
   "metadata": {},
   "outputs": [],
   "source": [
    "# since we need different features to analayze different kinds of customer behaviour\n",
    "# we will create features seperately for each model"
   ]
  },
  {
   "cell_type": "markdown",
   "id": "a27b8f0e",
   "metadata": {},
   "source": [
    "## Saving the Current Data"
   ]
  },
  {
   "cell_type": "code",
   "execution_count": 223,
   "id": "0e27598f",
   "metadata": {},
   "outputs": [],
   "source": [
    "# we will save the currently cleaned data in a file"
   ]
  },
  {
   "cell_type": "code",
   "execution_count": 224,
   "id": "cbec1c3f",
   "metadata": {},
   "outputs": [],
   "source": [
    "churn.to_csv('cleaned_churn_data.csv', index=False)"
   ]
  }
 ],
 "metadata": {
  "kernelspec": {
   "display_name": "ml-env",
   "language": "python",
   "name": "python3"
  },
  "language_info": {
   "codemirror_mode": {
    "name": "ipython",
    "version": 3
   },
   "file_extension": ".py",
   "mimetype": "text/x-python",
   "name": "python",
   "nbconvert_exporter": "python",
   "pygments_lexer": "ipython3",
   "version": "3.10.16"
  }
 },
 "nbformat": 4,
 "nbformat_minor": 5
}
